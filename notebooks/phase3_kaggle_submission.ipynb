{
 "cells": [
  {
   "cell_type": "markdown",
   "id": "569970ba",
   "metadata": {},
   "source": [
    "# Phase 3: Submitting to Kaggle\n",
    "\n",
    "The only way for us to test the strength of our model is by uploading the test predictions to Kaggle"
   ]
  },
  {
   "cell_type": "markdown",
   "id": "91984ba6",
   "metadata": {},
   "source": [
    "## Setting up Kaggle\n",
    "\n",
    "If you haven't set up authentication with Kaggle yet (you can test this by running the cell below), follow these steps:\n",
    "\n",
    "1. Go to the Account tab of your [Kaggle profile](https://www.kaggle.com/settings/account)\n",
    "2. Select 'Create New Token' (which will download a file `kaggle.json`)\n",
    "3. If you are on a UNIX-based OS, place this at `~/.kaggle/kaggle.json`\n",
    "    - For Windows, place this at `C:\\Users\\<Windows-username>\\.kaggle\\kaggle.json`"
   ]
  },
  {
   "cell_type": "code",
   "execution_count": 2,
   "id": "3e777ed1",
   "metadata": {},
   "outputs": [
    {
     "name": "stdout",
     "output_type": "stream",
     "text": [
      "Warning: Your Kaggle API key is readable by other users on this system! To fix this, you can run 'chmod 600 /Users/nic/.kaggle/kaggle.json'\n",
      "Warning: Your Kaggle API key is readable by other users on this system! To fix this, you can run 'chmod 600 /Users/nic/.kaggle/kaggle.json'\n"
     ]
    }
   ],
   "source": [
    "from kaggle.api.kaggle_api_extended import KaggleApi\n",
    "\n",
    "api = KaggleApi()\n",
    "api.authenticate()\n",
    "\n",
    "competition = \"house-prices-advanced-regression-techniques\""
   ]
  },
  {
   "cell_type": "code",
   "execution_count": 3,
   "id": "c2694bde",
   "metadata": {},
   "outputs": [
    {
     "data": {
      "text/plain": [
       "'../submissions/xgboost_submission.csv'"
      ]
     },
     "execution_count": 3,
     "metadata": {},
     "output_type": "execute_result"
    }
   ],
   "source": [
    "import os\n",
    "import random\n",
    "\n",
    "submission_dir = \"../submissions\"\n",
    "submission_files = [f for f in os.listdir(submission_dir) if f.endswith('.csv')]\n",
    "if len(submission_files) == 0:\n",
    "    raise FileNotFoundError(\"No submissions exist. Run phase1 and 2 notebooks first.\")\n",
    "\n",
    "# set this if you want to test a specific file, otherwise a random one will be selected\n",
    "submission_file = None \n",
    "\n",
    "submission_file = random.choice(submission_files) if submission_file == None else submission_file\n",
    "submission_filepath = f\"{submission_dir}/{submission_file}\"\n",
    "submission_filepath"
   ]
  },
  {
   "cell_type": "code",
   "execution_count": 4,
   "id": "d4f781fc",
   "metadata": {},
   "outputs": [
    {
     "name": "stderr",
     "output_type": "stream",
     "text": [
      "100%|██████████| 21.2k/21.2k [00:00<00:00, 48.4kB/s]\n"
     ]
    },
    {
     "data": {
      "text/plain": [
       "{\"message\": \"Successfully submitted to House Prices - Advanced Regression Techniques\", \"ref\": 47788234}"
      ]
     },
     "execution_count": 4,
     "metadata": {},
     "output_type": "execute_result"
    }
   ],
   "source": [
    "from datetime import datetime\n",
    "\n",
    "now = datetime.now().strftime(\"%D %T\")\n",
    "message = f\"submission {now}\"\n",
    "\n",
    "response = api.competition_submit(submission_filepath, message, competition)\n",
    "response"
   ]
  },
  {
   "cell_type": "code",
   "execution_count": 6,
   "id": "15882246",
   "metadata": {},
   "outputs": [],
   "source": [
    "# to solve latency with submission/query\n",
    "from time import sleep\n",
    "sleep(3)"
   ]
  },
  {
   "cell_type": "code",
   "execution_count": null,
   "id": "f42fe096",
   "metadata": {},
   "outputs": [
    {
     "name": "stdout",
     "output_type": "stream",
     "text": [
      "submission returned score of 0.12899\n",
      "\n",
      "Last 5 submissions:\n",
      "\tSCORE: 0.13113\n",
      "\tref: 47787518\n",
      "\tdate: 2025-10-31 00:14:02\n",
      "\tfile name: xgboost_submission.csv\n",
      "\tsubmitted by nicbolton\n",
      "\n",
      "\tSCORE: 0.12877\n",
      "\tref: 47784912\n",
      "\tdate: 2025-10-30 20:59:10.877000\n",
      "\tfile name: xgboost_submission.csv\n",
      "\tsubmitted by nicbolton\n",
      "\n",
      "\tSCORE: 0.12877\n",
      "\tref: 47784910\n",
      "\tdate: 2025-10-30 20:59:05\n",
      "\tfile name: xgboost_submission.csv\n",
      "\tsubmitted by nicbolton\n",
      "\n",
      "\tSCORE: 0.12877\n",
      "\tref: 47784906\n",
      "\tdate: 2025-10-30 20:58:55\n",
      "\tfile name: xgboost_submission.csv\n",
      "\tsubmitted by nicbolton\n",
      "\n",
      "\tSCORE: 0.12877\n",
      "\tref: 47784887\n",
      "\tdate: 2025-10-30 20:57:35.773000\n",
      "\tfile name: xgboost_submission.csv\n",
      "\tsubmitted by nicbolton\n",
      "\n"
     ]
    }
   ],
   "source": [
    "leaderboard = api.competition_submissions(competition)\n",
    "submission = [s for s in leaderboard if s.ref == response.ref][0]\n",
    "other_submissions = [s for s in leaderboard if s.ref != response.ref]\n",
    "other_submissions.sort(key = lambda x: x.date, reverse=True)\n",
    "\n",
    "score = float(submission.public_score)\n",
    "print(f\"submission returned score of {score}\")\n",
    "\n",
    "print(\"\\nLast 5 submissions:\")\n",
    "for s in other_submissions[:5]:\n",
    "    print(f\"\\tSCORE: {s.public_score}\")\n",
    "    print(f\"\\tref: {s.ref}\")\n",
    "    print(f\"\\tdate: {s.date}\")\n",
    "    print(f\"\\tfile name: {s.file_name}\")\n",
    "    print(f\"\\tsubmitted by {s.submitted_by}\\n\")"
   ]
  }
 ],
 "metadata": {
  "kernelspec": {
   "display_name": "AmesHousingPredictor",
   "language": "python",
   "name": "python3"
  },
  "language_info": {
   "codemirror_mode": {
    "name": "ipython",
    "version": 3
   },
   "file_extension": ".py",
   "mimetype": "text/x-python",
   "name": "python",
   "nbconvert_exporter": "python",
   "pygments_lexer": "ipython3",
   "version": "3.10.11"
  }
 },
 "nbformat": 4,
 "nbformat_minor": 5
}
