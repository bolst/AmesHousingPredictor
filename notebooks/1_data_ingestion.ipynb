{
 "cells": [
  {
   "cell_type": "markdown",
   "id": "c6d75918",
   "metadata": {},
   "source": [
    "# Data source\n",
    "\n",
    "[Kaggle Repo](https://www.kaggle.com/c/house-prices-advanced-regression-techniques/data)\n",
    "\n",
    "This dataset has 79 explanatory variables that describe many aspects of residential homes in Ames, Iowa. This project aims to predict the final prices of each home.\n",
    "\n",
    "\n",
    "# Step 1: Data Ingestion\n",
    "\n",
    "TODO: description here"
   ]
  },
  {
   "cell_type": "code",
   "execution_count": 83,
   "id": "fd337f8e",
   "metadata": {},
   "outputs": [
    {
     "name": "stdout",
     "output_type": "stream",
     "text": [
      "successfully read dataset...\n",
      "train shape = (1460, 81)\n",
      "test shape = (1459, 80)\n"
     ]
    }
   ],
   "source": [
    "import os\n",
    "import matplotlib.pyplot as plt\n",
    "%matplotlib inline\n",
    "import pandas as pd\n",
    "import seaborn as sns\n",
    "import warnings\n",
    "warnings.filterwarnings('ignore')\n",
    "\n",
    "# only display up to 3 decimal points when pd is used in print()\n",
    "pd.set_option('display.float_format', lambda x: '{:.3f}'.format(x))\n",
    "\n",
    "in_file_paths = {\n",
    "    'train': '../data/house-prices-advanced-regression-techniques/train.csv',\n",
    "    'test': '../data/house-prices-advanced-regression-techniques/test.csv',\n",
    "    'descriptions': '../data/house-prices-advanced-regression-techniques/data_description.txt',\n",
    "}\n",
    "\n",
    "# create output directory if it does not exist already\n",
    "os.makedirs('./outputs', exist_ok=True)\n",
    "\n",
    "train = pd.read_csv(in_file_paths['train'])\n",
    "test = pd.read_csv(in_file_paths['test'])\n",
    "print(f\"successfully read dataset...\\ntrain shape = {train.shape}\\ntest shape = {test.shape}\")"
   ]
  },
  {
   "cell_type": "code",
   "execution_count": 84,
   "id": "a81b43ba",
   "metadata": {},
   "outputs": [
    {
     "data": {
      "application/vnd.microsoft.datawrangler.viewer.v0+json": {
       "columns": [
        {
         "name": "index",
         "rawType": "object",
         "type": "string"
        },
        {
         "name": "Id",
         "rawType": "float64",
         "type": "float"
        },
        {
         "name": "MSSubClass",
         "rawType": "float64",
         "type": "float"
        },
        {
         "name": "LotFrontage",
         "rawType": "float64",
         "type": "float"
        },
        {
         "name": "LotArea",
         "rawType": "float64",
         "type": "float"
        },
        {
         "name": "OverallQual",
         "rawType": "float64",
         "type": "float"
        },
        {
         "name": "OverallCond",
         "rawType": "float64",
         "type": "float"
        },
        {
         "name": "YearBuilt",
         "rawType": "float64",
         "type": "float"
        },
        {
         "name": "YearRemodAdd",
         "rawType": "float64",
         "type": "float"
        },
        {
         "name": "MasVnrArea",
         "rawType": "float64",
         "type": "float"
        },
        {
         "name": "BsmtFinSF1",
         "rawType": "float64",
         "type": "float"
        },
        {
         "name": "BsmtFinSF2",
         "rawType": "float64",
         "type": "float"
        },
        {
         "name": "BsmtUnfSF",
         "rawType": "float64",
         "type": "float"
        },
        {
         "name": "TotalBsmtSF",
         "rawType": "float64",
         "type": "float"
        },
        {
         "name": "1stFlrSF",
         "rawType": "float64",
         "type": "float"
        },
        {
         "name": "2ndFlrSF",
         "rawType": "float64",
         "type": "float"
        },
        {
         "name": "LowQualFinSF",
         "rawType": "float64",
         "type": "float"
        },
        {
         "name": "GrLivArea",
         "rawType": "float64",
         "type": "float"
        },
        {
         "name": "BsmtFullBath",
         "rawType": "float64",
         "type": "float"
        },
        {
         "name": "BsmtHalfBath",
         "rawType": "float64",
         "type": "float"
        },
        {
         "name": "FullBath",
         "rawType": "float64",
         "type": "float"
        },
        {
         "name": "HalfBath",
         "rawType": "float64",
         "type": "float"
        },
        {
         "name": "BedroomAbvGr",
         "rawType": "float64",
         "type": "float"
        },
        {
         "name": "KitchenAbvGr",
         "rawType": "float64",
         "type": "float"
        },
        {
         "name": "TotRmsAbvGrd",
         "rawType": "float64",
         "type": "float"
        },
        {
         "name": "Fireplaces",
         "rawType": "float64",
         "type": "float"
        },
        {
         "name": "GarageYrBlt",
         "rawType": "float64",
         "type": "float"
        },
        {
         "name": "GarageCars",
         "rawType": "float64",
         "type": "float"
        },
        {
         "name": "GarageArea",
         "rawType": "float64",
         "type": "float"
        },
        {
         "name": "WoodDeckSF",
         "rawType": "float64",
         "type": "float"
        },
        {
         "name": "OpenPorchSF",
         "rawType": "float64",
         "type": "float"
        },
        {
         "name": "EnclosedPorch",
         "rawType": "float64",
         "type": "float"
        },
        {
         "name": "3SsnPorch",
         "rawType": "float64",
         "type": "float"
        },
        {
         "name": "ScreenPorch",
         "rawType": "float64",
         "type": "float"
        },
        {
         "name": "PoolArea",
         "rawType": "float64",
         "type": "float"
        },
        {
         "name": "MiscVal",
         "rawType": "float64",
         "type": "float"
        },
        {
         "name": "MoSold",
         "rawType": "float64",
         "type": "float"
        },
        {
         "name": "YrSold",
         "rawType": "float64",
         "type": "float"
        },
        {
         "name": "SalePrice",
         "rawType": "float64",
         "type": "float"
        }
       ],
       "ref": "627b7c35-0fa4-4f08-8016-5222ee52177a",
       "rows": [
        [
         "count",
         "1460.0",
         "1460.0",
         "1201.0",
         "1460.0",
         "1460.0",
         "1460.0",
         "1460.0",
         "1460.0",
         "1452.0",
         "1460.0",
         "1460.0",
         "1460.0",
         "1460.0",
         "1460.0",
         "1460.0",
         "1460.0",
         "1460.0",
         "1460.0",
         "1460.0",
         "1460.0",
         "1460.0",
         "1460.0",
         "1460.0",
         "1460.0",
         "1460.0",
         "1379.0",
         "1460.0",
         "1460.0",
         "1460.0",
         "1460.0",
         "1460.0",
         "1460.0",
         "1460.0",
         "1460.0",
         "1460.0",
         "1460.0",
         "1460.0",
         "1460.0"
        ],
        [
         "mean",
         "730.5",
         "56.897260273972606",
         "70.04995836802665",
         "10516.828082191782",
         "6.0993150684931505",
         "5.575342465753424",
         "1971.267808219178",
         "1984.8657534246574",
         "103.68526170798899",
         "443.6397260273973",
         "46.54931506849315",
         "567.2404109589041",
         "1057.4294520547944",
         "1162.626712328767",
         "346.99246575342465",
         "5.844520547945206",
         "1515.463698630137",
         "0.42534246575342466",
         "0.057534246575342465",
         "1.5650684931506849",
         "0.38287671232876713",
         "2.8664383561643834",
         "1.0465753424657533",
         "6.517808219178082",
         "0.613013698630137",
         "1978.5061638868744",
         "1.7671232876712328",
         "472.9801369863014",
         "94.2445205479452",
         "46.66027397260274",
         "21.954109589041096",
         "3.4095890410958902",
         "15.060958904109588",
         "2.758904109589041",
         "43.489041095890414",
         "6.321917808219178",
         "2007.8157534246575",
         "180921.19589041095"
        ],
        [
         "std",
         "421.6100093688479",
         "42.300570993810425",
         "24.284751774483208",
         "9981.26493237915",
         "1.3829965467415934",
         "1.1127993367127316",
         "30.202904042525258",
         "20.645406807709413",
         "181.0662065872166",
         "456.0980908409277",
         "161.31927280654173",
         "441.86695529243417",
         "438.7053244594708",
         "386.5877380410744",
         "436.5284358862568",
         "48.62308143352019",
         "525.4803834232025",
         "0.5189106060898065",
         "0.23875264627921178",
         "0.5509158012954317",
         "0.5028853810928914",
         "0.8157780441442284",
         "0.22033819838403068",
         "1.6253932905840505",
         "0.6446663863122295",
         "24.689724768590242",
         "0.7473150101111095",
         "213.80484145338042",
         "125.3387943517241",
         "66.25602767664971",
         "61.1191486017286",
         "29.31733055678188",
         "55.757415281874174",
         "40.17730694453019",
         "496.12302445794415",
         "2.7036262083595126",
         "1.3280951205521099",
         "79442.50288288662"
        ],
        [
         "min",
         "1.0",
         "20.0",
         "21.0",
         "1300.0",
         "1.0",
         "1.0",
         "1872.0",
         "1950.0",
         "0.0",
         "0.0",
         "0.0",
         "0.0",
         "0.0",
         "334.0",
         "0.0",
         "0.0",
         "334.0",
         "0.0",
         "0.0",
         "0.0",
         "0.0",
         "0.0",
         "0.0",
         "2.0",
         "0.0",
         "1900.0",
         "0.0",
         "0.0",
         "0.0",
         "0.0",
         "0.0",
         "0.0",
         "0.0",
         "0.0",
         "0.0",
         "1.0",
         "2006.0",
         "34900.0"
        ],
        [
         "25%",
         "365.75",
         "20.0",
         "59.0",
         "7553.5",
         "5.0",
         "5.0",
         "1954.0",
         "1967.0",
         "0.0",
         "0.0",
         "0.0",
         "223.0",
         "795.75",
         "882.0",
         "0.0",
         "0.0",
         "1129.5",
         "0.0",
         "0.0",
         "1.0",
         "0.0",
         "2.0",
         "1.0",
         "5.0",
         "0.0",
         "1961.0",
         "1.0",
         "334.5",
         "0.0",
         "0.0",
         "0.0",
         "0.0",
         "0.0",
         "0.0",
         "0.0",
         "5.0",
         "2007.0",
         "129975.0"
        ],
        [
         "50%",
         "730.5",
         "50.0",
         "69.0",
         "9478.5",
         "6.0",
         "5.0",
         "1973.0",
         "1994.0",
         "0.0",
         "383.5",
         "0.0",
         "477.5",
         "991.5",
         "1087.0",
         "0.0",
         "0.0",
         "1464.0",
         "0.0",
         "0.0",
         "2.0",
         "0.0",
         "3.0",
         "1.0",
         "6.0",
         "1.0",
         "1980.0",
         "2.0",
         "480.0",
         "0.0",
         "25.0",
         "0.0",
         "0.0",
         "0.0",
         "0.0",
         "0.0",
         "6.0",
         "2008.0",
         "163000.0"
        ],
        [
         "75%",
         "1095.25",
         "70.0",
         "80.0",
         "11601.5",
         "7.0",
         "6.0",
         "2000.0",
         "2004.0",
         "166.0",
         "712.25",
         "0.0",
         "808.0",
         "1298.25",
         "1391.25",
         "728.0",
         "0.0",
         "1776.75",
         "1.0",
         "0.0",
         "2.0",
         "1.0",
         "3.0",
         "1.0",
         "7.0",
         "1.0",
         "2002.0",
         "2.0",
         "576.0",
         "168.0",
         "68.0",
         "0.0",
         "0.0",
         "0.0",
         "0.0",
         "0.0",
         "8.0",
         "2009.0",
         "214000.0"
        ],
        [
         "max",
         "1460.0",
         "190.0",
         "313.0",
         "215245.0",
         "10.0",
         "9.0",
         "2010.0",
         "2010.0",
         "1600.0",
         "5644.0",
         "1474.0",
         "2336.0",
         "6110.0",
         "4692.0",
         "2065.0",
         "572.0",
         "5642.0",
         "3.0",
         "2.0",
         "3.0",
         "2.0",
         "8.0",
         "3.0",
         "14.0",
         "3.0",
         "2010.0",
         "4.0",
         "1418.0",
         "857.0",
         "547.0",
         "552.0",
         "508.0",
         "480.0",
         "738.0",
         "15500.0",
         "12.0",
         "2010.0",
         "755000.0"
        ]
       ],
       "shape": {
        "columns": 38,
        "rows": 8
       }
      },
      "text/html": [
       "<div>\n",
       "<style scoped>\n",
       "    .dataframe tbody tr th:only-of-type {\n",
       "        vertical-align: middle;\n",
       "    }\n",
       "\n",
       "    .dataframe tbody tr th {\n",
       "        vertical-align: top;\n",
       "    }\n",
       "\n",
       "    .dataframe thead th {\n",
       "        text-align: right;\n",
       "    }\n",
       "</style>\n",
       "<table border=\"1\" class=\"dataframe\">\n",
       "  <thead>\n",
       "    <tr style=\"text-align: right;\">\n",
       "      <th></th>\n",
       "      <th>Id</th>\n",
       "      <th>MSSubClass</th>\n",
       "      <th>LotFrontage</th>\n",
       "      <th>LotArea</th>\n",
       "      <th>OverallQual</th>\n",
       "      <th>OverallCond</th>\n",
       "      <th>YearBuilt</th>\n",
       "      <th>YearRemodAdd</th>\n",
       "      <th>MasVnrArea</th>\n",
       "      <th>BsmtFinSF1</th>\n",
       "      <th>...</th>\n",
       "      <th>WoodDeckSF</th>\n",
       "      <th>OpenPorchSF</th>\n",
       "      <th>EnclosedPorch</th>\n",
       "      <th>3SsnPorch</th>\n",
       "      <th>ScreenPorch</th>\n",
       "      <th>PoolArea</th>\n",
       "      <th>MiscVal</th>\n",
       "      <th>MoSold</th>\n",
       "      <th>YrSold</th>\n",
       "      <th>SalePrice</th>\n",
       "    </tr>\n",
       "  </thead>\n",
       "  <tbody>\n",
       "    <tr>\n",
       "      <th>count</th>\n",
       "      <td>1460.000</td>\n",
       "      <td>1460.000</td>\n",
       "      <td>1201.000</td>\n",
       "      <td>1460.000</td>\n",
       "      <td>1460.000</td>\n",
       "      <td>1460.000</td>\n",
       "      <td>1460.000</td>\n",
       "      <td>1460.000</td>\n",
       "      <td>1452.000</td>\n",
       "      <td>1460.000</td>\n",
       "      <td>...</td>\n",
       "      <td>1460.000</td>\n",
       "      <td>1460.000</td>\n",
       "      <td>1460.000</td>\n",
       "      <td>1460.000</td>\n",
       "      <td>1460.000</td>\n",
       "      <td>1460.000</td>\n",
       "      <td>1460.000</td>\n",
       "      <td>1460.000</td>\n",
       "      <td>1460.000</td>\n",
       "      <td>1460.000</td>\n",
       "    </tr>\n",
       "    <tr>\n",
       "      <th>mean</th>\n",
       "      <td>730.500</td>\n",
       "      <td>56.897</td>\n",
       "      <td>70.050</td>\n",
       "      <td>10516.828</td>\n",
       "      <td>6.099</td>\n",
       "      <td>5.575</td>\n",
       "      <td>1971.268</td>\n",
       "      <td>1984.866</td>\n",
       "      <td>103.685</td>\n",
       "      <td>443.640</td>\n",
       "      <td>...</td>\n",
       "      <td>94.245</td>\n",
       "      <td>46.660</td>\n",
       "      <td>21.954</td>\n",
       "      <td>3.410</td>\n",
       "      <td>15.061</td>\n",
       "      <td>2.759</td>\n",
       "      <td>43.489</td>\n",
       "      <td>6.322</td>\n",
       "      <td>2007.816</td>\n",
       "      <td>180921.196</td>\n",
       "    </tr>\n",
       "    <tr>\n",
       "      <th>std</th>\n",
       "      <td>421.610</td>\n",
       "      <td>42.301</td>\n",
       "      <td>24.285</td>\n",
       "      <td>9981.265</td>\n",
       "      <td>1.383</td>\n",
       "      <td>1.113</td>\n",
       "      <td>30.203</td>\n",
       "      <td>20.645</td>\n",
       "      <td>181.066</td>\n",
       "      <td>456.098</td>\n",
       "      <td>...</td>\n",
       "      <td>125.339</td>\n",
       "      <td>66.256</td>\n",
       "      <td>61.119</td>\n",
       "      <td>29.317</td>\n",
       "      <td>55.757</td>\n",
       "      <td>40.177</td>\n",
       "      <td>496.123</td>\n",
       "      <td>2.704</td>\n",
       "      <td>1.328</td>\n",
       "      <td>79442.503</td>\n",
       "    </tr>\n",
       "    <tr>\n",
       "      <th>min</th>\n",
       "      <td>1.000</td>\n",
       "      <td>20.000</td>\n",
       "      <td>21.000</td>\n",
       "      <td>1300.000</td>\n",
       "      <td>1.000</td>\n",
       "      <td>1.000</td>\n",
       "      <td>1872.000</td>\n",
       "      <td>1950.000</td>\n",
       "      <td>0.000</td>\n",
       "      <td>0.000</td>\n",
       "      <td>...</td>\n",
       "      <td>0.000</td>\n",
       "      <td>0.000</td>\n",
       "      <td>0.000</td>\n",
       "      <td>0.000</td>\n",
       "      <td>0.000</td>\n",
       "      <td>0.000</td>\n",
       "      <td>0.000</td>\n",
       "      <td>1.000</td>\n",
       "      <td>2006.000</td>\n",
       "      <td>34900.000</td>\n",
       "    </tr>\n",
       "    <tr>\n",
       "      <th>25%</th>\n",
       "      <td>365.750</td>\n",
       "      <td>20.000</td>\n",
       "      <td>59.000</td>\n",
       "      <td>7553.500</td>\n",
       "      <td>5.000</td>\n",
       "      <td>5.000</td>\n",
       "      <td>1954.000</td>\n",
       "      <td>1967.000</td>\n",
       "      <td>0.000</td>\n",
       "      <td>0.000</td>\n",
       "      <td>...</td>\n",
       "      <td>0.000</td>\n",
       "      <td>0.000</td>\n",
       "      <td>0.000</td>\n",
       "      <td>0.000</td>\n",
       "      <td>0.000</td>\n",
       "      <td>0.000</td>\n",
       "      <td>0.000</td>\n",
       "      <td>5.000</td>\n",
       "      <td>2007.000</td>\n",
       "      <td>129975.000</td>\n",
       "    </tr>\n",
       "    <tr>\n",
       "      <th>50%</th>\n",
       "      <td>730.500</td>\n",
       "      <td>50.000</td>\n",
       "      <td>69.000</td>\n",
       "      <td>9478.500</td>\n",
       "      <td>6.000</td>\n",
       "      <td>5.000</td>\n",
       "      <td>1973.000</td>\n",
       "      <td>1994.000</td>\n",
       "      <td>0.000</td>\n",
       "      <td>383.500</td>\n",
       "      <td>...</td>\n",
       "      <td>0.000</td>\n",
       "      <td>25.000</td>\n",
       "      <td>0.000</td>\n",
       "      <td>0.000</td>\n",
       "      <td>0.000</td>\n",
       "      <td>0.000</td>\n",
       "      <td>0.000</td>\n",
       "      <td>6.000</td>\n",
       "      <td>2008.000</td>\n",
       "      <td>163000.000</td>\n",
       "    </tr>\n",
       "    <tr>\n",
       "      <th>75%</th>\n",
       "      <td>1095.250</td>\n",
       "      <td>70.000</td>\n",
       "      <td>80.000</td>\n",
       "      <td>11601.500</td>\n",
       "      <td>7.000</td>\n",
       "      <td>6.000</td>\n",
       "      <td>2000.000</td>\n",
       "      <td>2004.000</td>\n",
       "      <td>166.000</td>\n",
       "      <td>712.250</td>\n",
       "      <td>...</td>\n",
       "      <td>168.000</td>\n",
       "      <td>68.000</td>\n",
       "      <td>0.000</td>\n",
       "      <td>0.000</td>\n",
       "      <td>0.000</td>\n",
       "      <td>0.000</td>\n",
       "      <td>0.000</td>\n",
       "      <td>8.000</td>\n",
       "      <td>2009.000</td>\n",
       "      <td>214000.000</td>\n",
       "    </tr>\n",
       "    <tr>\n",
       "      <th>max</th>\n",
       "      <td>1460.000</td>\n",
       "      <td>190.000</td>\n",
       "      <td>313.000</td>\n",
       "      <td>215245.000</td>\n",
       "      <td>10.000</td>\n",
       "      <td>9.000</td>\n",
       "      <td>2010.000</td>\n",
       "      <td>2010.000</td>\n",
       "      <td>1600.000</td>\n",
       "      <td>5644.000</td>\n",
       "      <td>...</td>\n",
       "      <td>857.000</td>\n",
       "      <td>547.000</td>\n",
       "      <td>552.000</td>\n",
       "      <td>508.000</td>\n",
       "      <td>480.000</td>\n",
       "      <td>738.000</td>\n",
       "      <td>15500.000</td>\n",
       "      <td>12.000</td>\n",
       "      <td>2010.000</td>\n",
       "      <td>755000.000</td>\n",
       "    </tr>\n",
       "  </tbody>\n",
       "</table>\n",
       "<p>8 rows × 38 columns</p>\n",
       "</div>"
      ],
      "text/plain": [
       "            Id  MSSubClass  LotFrontage    LotArea  OverallQual  OverallCond  \\\n",
       "count 1460.000    1460.000     1201.000   1460.000     1460.000     1460.000   \n",
       "mean   730.500      56.897       70.050  10516.828        6.099        5.575   \n",
       "std    421.610      42.301       24.285   9981.265        1.383        1.113   \n",
       "min      1.000      20.000       21.000   1300.000        1.000        1.000   \n",
       "25%    365.750      20.000       59.000   7553.500        5.000        5.000   \n",
       "50%    730.500      50.000       69.000   9478.500        6.000        5.000   \n",
       "75%   1095.250      70.000       80.000  11601.500        7.000        6.000   \n",
       "max   1460.000     190.000      313.000 215245.000       10.000        9.000   \n",
       "\n",
       "       YearBuilt  YearRemodAdd  MasVnrArea  BsmtFinSF1  ...  WoodDeckSF  \\\n",
       "count   1460.000      1460.000    1452.000    1460.000  ...    1460.000   \n",
       "mean    1971.268      1984.866     103.685     443.640  ...      94.245   \n",
       "std       30.203        20.645     181.066     456.098  ...     125.339   \n",
       "min     1872.000      1950.000       0.000       0.000  ...       0.000   \n",
       "25%     1954.000      1967.000       0.000       0.000  ...       0.000   \n",
       "50%     1973.000      1994.000       0.000     383.500  ...       0.000   \n",
       "75%     2000.000      2004.000     166.000     712.250  ...     168.000   \n",
       "max     2010.000      2010.000    1600.000    5644.000  ...     857.000   \n",
       "\n",
       "       OpenPorchSF  EnclosedPorch  3SsnPorch  ScreenPorch  PoolArea   MiscVal  \\\n",
       "count     1460.000       1460.000   1460.000     1460.000  1460.000  1460.000   \n",
       "mean        46.660         21.954      3.410       15.061     2.759    43.489   \n",
       "std         66.256         61.119     29.317       55.757    40.177   496.123   \n",
       "min          0.000          0.000      0.000        0.000     0.000     0.000   \n",
       "25%          0.000          0.000      0.000        0.000     0.000     0.000   \n",
       "50%         25.000          0.000      0.000        0.000     0.000     0.000   \n",
       "75%         68.000          0.000      0.000        0.000     0.000     0.000   \n",
       "max        547.000        552.000    508.000      480.000   738.000 15500.000   \n",
       "\n",
       "        MoSold   YrSold  SalePrice  \n",
       "count 1460.000 1460.000   1460.000  \n",
       "mean     6.322 2007.816 180921.196  \n",
       "std      2.704    1.328  79442.503  \n",
       "min      1.000 2006.000  34900.000  \n",
       "25%      5.000 2007.000 129975.000  \n",
       "50%      6.000 2008.000 163000.000  \n",
       "75%      8.000 2009.000 214000.000  \n",
       "max     12.000 2010.000 755000.000  \n",
       "\n",
       "[8 rows x 38 columns]"
      ]
     },
     "execution_count": 84,
     "metadata": {},
     "output_type": "execute_result"
    }
   ],
   "source": [
    "train.describe()"
   ]
  },
  {
   "cell_type": "markdown",
   "id": "df9eb4f4",
   "metadata": {},
   "source": [
    "## Cleaning\n",
    "\n",
    "We will now deal with missing values and outliers."
   ]
  },
  {
   "cell_type": "code",
   "execution_count": 88,
   "id": "2b330372",
   "metadata": {},
   "outputs": [
    {
     "data": {
      "application/vnd.microsoft.datawrangler.viewer.v0+json": {
       "columns": [
        {
         "name": "index",
         "rawType": "object",
         "type": "string"
        },
        {
         "name": "Total",
         "rawType": "int64",
         "type": "integer"
        },
        {
         "name": "Pctg",
         "rawType": "float64",
         "type": "float"
        }
       ],
       "ref": "7c0476fd-a3fe-41d4-955a-d9fdd27e9e49",
       "rows": [
        [
         "Fence",
         "1179",
         "0.8075342465753425"
        ],
        [
         "MasVnrType",
         "872",
         "0.5972602739726027"
        ],
        [
         "FireplaceQu",
         "690",
         "0.4726027397260274"
        ],
        [
         "LotFrontage",
         "259",
         "0.1773972602739726"
        ],
        [
         "GarageType",
         "81",
         "0.05547945205479452"
        ],
        [
         "GarageYrBlt",
         "81",
         "0.05547945205479452"
        ],
        [
         "GarageFinish",
         "81",
         "0.05547945205479452"
        ],
        [
         "GarageQual",
         "81",
         "0.05547945205479452"
        ],
        [
         "GarageCond",
         "81",
         "0.05547945205479452"
        ],
        [
         "BsmtExposure",
         "38",
         "0.026027397260273973"
        ],
        [
         "BsmtFinType2",
         "38",
         "0.026027397260273973"
        ],
        [
         "BsmtQual",
         "37",
         "0.025342465753424658"
        ],
        [
         "BsmtCond",
         "37",
         "0.025342465753424658"
        ],
        [
         "BsmtFinType1",
         "37",
         "0.025342465753424658"
        ],
        [
         "MasVnrArea",
         "8",
         "0.005479452054794521"
        ],
        [
         "Electrical",
         "1",
         "0.0006849315068493151"
        ]
       ],
       "shape": {
        "columns": 2,
        "rows": 16
       }
      },
      "text/html": [
       "<div>\n",
       "<style scoped>\n",
       "    .dataframe tbody tr th:only-of-type {\n",
       "        vertical-align: middle;\n",
       "    }\n",
       "\n",
       "    .dataframe tbody tr th {\n",
       "        vertical-align: top;\n",
       "    }\n",
       "\n",
       "    .dataframe thead th {\n",
       "        text-align: right;\n",
       "    }\n",
       "</style>\n",
       "<table border=\"1\" class=\"dataframe\">\n",
       "  <thead>\n",
       "    <tr style=\"text-align: right;\">\n",
       "      <th></th>\n",
       "      <th>Total</th>\n",
       "      <th>Pctg</th>\n",
       "    </tr>\n",
       "  </thead>\n",
       "  <tbody>\n",
       "    <tr>\n",
       "      <th>Fence</th>\n",
       "      <td>1179</td>\n",
       "      <td>0.808</td>\n",
       "    </tr>\n",
       "    <tr>\n",
       "      <th>MasVnrType</th>\n",
       "      <td>872</td>\n",
       "      <td>0.597</td>\n",
       "    </tr>\n",
       "    <tr>\n",
       "      <th>FireplaceQu</th>\n",
       "      <td>690</td>\n",
       "      <td>0.473</td>\n",
       "    </tr>\n",
       "    <tr>\n",
       "      <th>LotFrontage</th>\n",
       "      <td>259</td>\n",
       "      <td>0.177</td>\n",
       "    </tr>\n",
       "    <tr>\n",
       "      <th>GarageType</th>\n",
       "      <td>81</td>\n",
       "      <td>0.055</td>\n",
       "    </tr>\n",
       "    <tr>\n",
       "      <th>GarageYrBlt</th>\n",
       "      <td>81</td>\n",
       "      <td>0.055</td>\n",
       "    </tr>\n",
       "    <tr>\n",
       "      <th>GarageFinish</th>\n",
       "      <td>81</td>\n",
       "      <td>0.055</td>\n",
       "    </tr>\n",
       "    <tr>\n",
       "      <th>GarageQual</th>\n",
       "      <td>81</td>\n",
       "      <td>0.055</td>\n",
       "    </tr>\n",
       "    <tr>\n",
       "      <th>GarageCond</th>\n",
       "      <td>81</td>\n",
       "      <td>0.055</td>\n",
       "    </tr>\n",
       "    <tr>\n",
       "      <th>BsmtExposure</th>\n",
       "      <td>38</td>\n",
       "      <td>0.026</td>\n",
       "    </tr>\n",
       "    <tr>\n",
       "      <th>BsmtFinType2</th>\n",
       "      <td>38</td>\n",
       "      <td>0.026</td>\n",
       "    </tr>\n",
       "    <tr>\n",
       "      <th>BsmtQual</th>\n",
       "      <td>37</td>\n",
       "      <td>0.025</td>\n",
       "    </tr>\n",
       "    <tr>\n",
       "      <th>BsmtCond</th>\n",
       "      <td>37</td>\n",
       "      <td>0.025</td>\n",
       "    </tr>\n",
       "    <tr>\n",
       "      <th>BsmtFinType1</th>\n",
       "      <td>37</td>\n",
       "      <td>0.025</td>\n",
       "    </tr>\n",
       "    <tr>\n",
       "      <th>MasVnrArea</th>\n",
       "      <td>8</td>\n",
       "      <td>0.005</td>\n",
       "    </tr>\n",
       "    <tr>\n",
       "      <th>Electrical</th>\n",
       "      <td>1</td>\n",
       "      <td>0.001</td>\n",
       "    </tr>\n",
       "  </tbody>\n",
       "</table>\n",
       "</div>"
      ],
      "text/plain": [
       "              Total  Pctg\n",
       "Fence          1179 0.808\n",
       "MasVnrType      872 0.597\n",
       "FireplaceQu     690 0.473\n",
       "LotFrontage     259 0.177\n",
       "GarageType       81 0.055\n",
       "GarageYrBlt      81 0.055\n",
       "GarageFinish     81 0.055\n",
       "GarageQual       81 0.055\n",
       "GarageCond       81 0.055\n",
       "BsmtExposure     38 0.026\n",
       "BsmtFinType2     38 0.026\n",
       "BsmtQual         37 0.025\n",
       "BsmtCond         37 0.025\n",
       "BsmtFinType1     37 0.025\n",
       "MasVnrArea        8 0.005\n",
       "Electrical        1 0.001"
      ]
     },
     "execution_count": 88,
     "metadata": {},
     "output_type": "execute_result"
    }
   ],
   "source": [
    "nanDict = {\n",
    "    'Total': train.isnull().sum(),\n",
    "    'Pctg': train.isnull().sum() / train.isnull().count()\n",
    "}\n",
    "\n",
    "nanStats = pd.DataFrame.from_dict(nanDict).sort_values(by=['Total', 'Pctg'], ascending=False)\n",
    "nanStats = nanStats[nanStats['Total'] > 0]\n",
    "nanStats"
   ]
  },
  {
   "cell_type": "code",
   "execution_count": null,
   "id": "606be9fe",
   "metadata": {},
   "outputs": [],
   "source": [
    "# TODO: properly deal with NANs..."
   ]
  },
  {
   "cell_type": "markdown",
   "id": "4c22fca9",
   "metadata": {},
   "source": [
    "## Normalizing\n",
    "\n",
    "Recall we are aiming to predict `SalePrice`, so we can start exploring this feature."
   ]
  },
  {
   "cell_type": "code",
   "execution_count": 26,
   "id": "46d7e437",
   "metadata": {},
   "outputs": [
    {
     "data": {
      "text/plain": [
       "<Axes: xlabel='SalePrice', ylabel='Count'>"
      ]
     },
     "execution_count": 26,
     "metadata": {},
     "output_type": "execute_result"
    },
    {
     "data": {
      "image/png": "[encoded data removed]",
      "text/plain": [
       "<Figure size 640x480 with 1 Axes>"
      ]
     },
     "metadata": {},
     "output_type": "display_data"
    }
   ],
   "source": [
    "sns.histplot(train['SalePrice'], kde=True)"
   ]
  },
  {
   "cell_type": "markdown",
   "id": "a253786d",
   "metadata": {},
   "source": [
    "We can see that `SalePrice` is not normalized. Normalizing it will help the models we build (some models assume normal distributions among data)."
   ]
  },
  {
   "cell_type": "code",
   "execution_count": 27,
   "id": "788cccf9",
   "metadata": {},
   "outputs": [
    {
     "data": {
      "image/png": "[encoded data removed]",
      "text/plain": [
       "<Figure size 640x480 with 1 Axes>"
      ]
     },
     "metadata": {},
     "output_type": "display_data"
    },
    {
     "data": {
      "image/png": "[encoded data removed]",
      "text/plain": [
       "<Figure size 640x480 with 1 Axes>"
      ]
     },
     "metadata": {},
     "output_type": "display_data"
    }
   ],
   "source": [
    "import numpy as np\n",
    "from scipy import stats\n",
    "\n",
    "normSalePrice = np.log1p(train['SalePrice'])\n",
    "\n",
    "sns.histplot(normSalePrice, kde=True)\n",
    "plt.figure()\n",
    "stats.probplot(normSalePrice, plot=plt);"
   ]
  },
  {
   "cell_type": "code",
   "execution_count": 29,
   "id": "ffca4464",
   "metadata": {},
   "outputs": [],
   "source": [
    "# above looks good so assign to DF\n",
    "train['SalePrice'] = normSalePrice"
   ]
  },
  {
   "cell_type": "code",
   "execution_count": null,
   "id": "e6d504fc",
   "metadata": {},
   "outputs": [],
   "source": []
  }
 ],
 "metadata": {
  "kernelspec": {
   "display_name": "venv",
   "language": "python",
   "name": "python3"
  },
  "language_info": {
   "codemirror_mode": {
    "name": "ipython",
    "version": 3
   },
   "file_extension": ".py",
   "mimetype": "text/x-python",
   "name": "python",
   "nbconvert_exporter": "python",
   "pygments_lexer": "ipython3",
   "version": "3.10.11"
  }
 },
 "nbformat": 4,
 "nbformat_minor": 5
}
