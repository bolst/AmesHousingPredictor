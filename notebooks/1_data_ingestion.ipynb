{
 "cells": [
  {
   "cell_type": "markdown",
   "id": "c6d75918",
   "metadata": {},
   "source": [
    "# Data source"
   ]
  },
  {
   "cell_type": "markdown",
   "id": "f093d4e2",
   "metadata": {},
   "source": [
    "## Objective\n",
    "\n",
    "The primary objective of this notebook is to process the raw Ames Housing dataset and prepare it for downstream modeling. We will begin by ingesting the data, conducting initial data validation to assess its structure and quality, and then addressing issues like missing values and feature inconsistencies."
   ]
  },
  {
   "cell_type": "markdown",
   "id": "5b1f9b50",
   "metadata": {},
   "source": [
    "## Time\n",
    "\n",
    "You should expect to spend (TODO: add expected runtime) running this sample."
   ]
  },
  {
   "cell_type": "markdown",
   "id": "b7d1f09d",
   "metadata": {},
   "source": [
    "### Dataset\n",
    "\n",
    "[Kaggle Repo](https://www.kaggle.com/c/house-prices-advanced-regression-techniques/data)\n",
    "\n",
    "This dataset has 79 explanatory variables that describe many aspects of residential homes in Ames, Iowa. Our target variable is `SalePrice`."
   ]
  },
  {
   "cell_type": "markdown",
   "id": "a05f589d",
   "metadata": {},
   "source": [
    "## Before you begin"
   ]
  },
  {
   "cell_type": "markdown",
   "id": "b071d3f2",
   "metadata": {},
   "source": [
    "## Installation\n",
    "\n",
    "Install the packages required to execute this notebook."
   ]
  },
  {
   "cell_type": "code",
   "execution_count": 2,
   "id": "b65210c2",
   "metadata": {},
   "outputs": [],
   "source": [
    "! pip3 install --quiet --upgrade pip\n",
    "! pip3 install --quiet -r ../requirements.txt"
   ]
  },
  {
   "cell_type": "markdown",
   "id": "34d97493",
   "metadata": {},
   "source": [
    "## Imports/Configuration"
   ]
  },
  {
   "cell_type": "code",
   "execution_count": 3,
   "id": "2f2aa752",
   "metadata": {},
   "outputs": [],
   "source": [
    "import os\n",
    "import matplotlib.pyplot as plt\n",
    "%matplotlib inline\n",
    "import pandas as pd\n",
    "import seaborn as sns\n",
    "import warnings\n",
    "warnings.filterwarnings('ignore')\n",
    "\n",
    "# only display up to 3 decimal points when pd is used in print()\n",
    "pd.set_option('display.float_format', lambda x: '{:.3f}'.format(x))\n",
    "\n",
    "in_file_paths = {\n",
    "    'train': '../data/house-prices-advanced-regression-techniques/train.csv',\n",
    "    'test': '../data/house-prices-advanced-regression-techniques/test.csv',\n",
    "    'descriptions': '../data/house-prices-advanced-regression-techniques/data_description.txt',\n",
    "}\n",
    "\n",
    "out_file_paths = {\n",
    "    'root': './outputs',\n",
    "    'train': './outputs/1_train.csv',\n",
    "    'test': './outputs/1_test.csv',\n",
    "}\n",
    "\n",
    "# create output directory if it does not exist already\n",
    "os.makedirs(out_file_paths['root'], exist_ok=True)"
   ]
  },
  {
   "cell_type": "markdown",
   "id": "2829c570",
   "metadata": {},
   "source": [
    "## Step 1: Data Ingestion"
   ]
  },
  {
   "cell_type": "code",
   "execution_count": 4,
   "id": "fd337f8e",
   "metadata": {},
   "outputs": [
    {
     "name": "stdout",
     "output_type": "stream",
     "text": [
      "successfully read dataset...\n",
      "train shape = (1460, 80)\n",
      "test shape = (1459, 79)\n"
     ]
    },
    {
     "data": {
      "application/vnd.microsoft.datawrangler.viewer.v0+json": {
       "columns": [
        {
         "name": "Id",
         "rawType": "int64",
         "type": "integer"
        },
        {
         "name": "MSSubClass",
         "rawType": "int64",
         "type": "integer"
        },
        {
         "name": "MSZoning",
         "rawType": "object",
         "type": "string"
        },
        {
         "name": "LotFrontage",
         "rawType": "float64",
         "type": "float"
        },
        {
         "name": "LotArea",
         "rawType": "int64",
         "type": "integer"
        },
        {
         "name": "Street",
         "rawType": "object",
         "type": "string"
        },
        {
         "name": "Alley",
         "rawType": "object",
         "type": "unknown"
        },
        {
         "name": "LotShape",
         "rawType": "object",
         "type": "string"
        },
        {
         "name": "LandContour",
         "rawType": "object",
         "type": "string"
        },
        {
         "name": "Utilities",
         "rawType": "object",
         "type": "string"
        },
        {
         "name": "LotConfig",
         "rawType": "object",
         "type": "string"
        },
        {
         "name": "LandSlope",
         "rawType": "object",
         "type": "string"
        },
        {
         "name": "Neighborhood",
         "rawType": "object",
         "type": "string"
        },
        {
         "name": "Condition1",
         "rawType": "object",
         "type": "string"
        },
        {
         "name": "Condition2",
         "rawType": "object",
         "type": "string"
        },
        {
         "name": "BldgType",
         "rawType": "object",
         "type": "string"
        },
        {
         "name": "HouseStyle",
         "rawType": "object",
         "type": "string"
        },
        {
         "name": "OverallQual",
         "rawType": "int64",
         "type": "integer"
        },
        {
         "name": "OverallCond",
         "rawType": "int64",
         "type": "integer"
        },
        {
         "name": "YearBuilt",
         "rawType": "int64",
         "type": "integer"
        },
        {
         "name": "YearRemodAdd",
         "rawType": "int64",
         "type": "integer"
        },
        {
         "name": "RoofStyle",
         "rawType": "object",
         "type": "string"
        },
        {
         "name": "RoofMatl",
         "rawType": "object",
         "type": "string"
        },
        {
         "name": "Exterior1st",
         "rawType": "object",
         "type": "string"
        },
        {
         "name": "Exterior2nd",
         "rawType": "object",
         "type": "string"
        },
        {
         "name": "MasVnrType",
         "rawType": "object",
         "type": "unknown"
        },
        {
         "name": "MasVnrArea",
         "rawType": "float64",
         "type": "float"
        },
        {
         "name": "ExterQual",
         "rawType": "object",
         "type": "string"
        },
        {
         "name": "ExterCond",
         "rawType": "object",
         "type": "string"
        },
        {
         "name": "Foundation",
         "rawType": "object",
         "type": "string"
        },
        {
         "name": "BsmtQual",
         "rawType": "object",
         "type": "string"
        },
        {
         "name": "BsmtCond",
         "rawType": "object",
         "type": "string"
        },
        {
         "name": "BsmtExposure",
         "rawType": "object",
         "type": "string"
        },
        {
         "name": "BsmtFinType1",
         "rawType": "object",
         "type": "string"
        },
        {
         "name": "BsmtFinSF1",
         "rawType": "int64",
         "type": "integer"
        },
        {
         "name": "BsmtFinType2",
         "rawType": "object",
         "type": "string"
        },
        {
         "name": "BsmtFinSF2",
         "rawType": "int64",
         "type": "integer"
        },
        {
         "name": "BsmtUnfSF",
         "rawType": "int64",
         "type": "integer"
        },
        {
         "name": "TotalBsmtSF",
         "rawType": "int64",
         "type": "integer"
        },
        {
         "name": "Heating",
         "rawType": "object",
         "type": "string"
        },
        {
         "name": "HeatingQC",
         "rawType": "object",
         "type": "string"
        },
        {
         "name": "CentralAir",
         "rawType": "object",
         "type": "string"
        },
        {
         "name": "Electrical",
         "rawType": "object",
         "type": "string"
        },
        {
         "name": "1stFlrSF",
         "rawType": "int64",
         "type": "integer"
        },
        {
         "name": "2ndFlrSF",
         "rawType": "int64",
         "type": "integer"
        },
        {
         "name": "LowQualFinSF",
         "rawType": "int64",
         "type": "integer"
        },
        {
         "name": "GrLivArea",
         "rawType": "int64",
         "type": "integer"
        },
        {
         "name": "BsmtFullBath",
         "rawType": "int64",
         "type": "integer"
        },
        {
         "name": "BsmtHalfBath",
         "rawType": "int64",
         "type": "integer"
        },
        {
         "name": "FullBath",
         "rawType": "int64",
         "type": "integer"
        },
        {
         "name": "HalfBath",
         "rawType": "int64",
         "type": "integer"
        },
        {
         "name": "BedroomAbvGr",
         "rawType": "int64",
         "type": "integer"
        },
        {
         "name": "KitchenAbvGr",
         "rawType": "int64",
         "type": "integer"
        },
        {
         "name": "KitchenQual",
         "rawType": "object",
         "type": "string"
        },
        {
         "name": "TotRmsAbvGrd",
         "rawType": "int64",
         "type": "integer"
        },
        {
         "name": "Functional",
         "rawType": "object",
         "type": "string"
        },
        {
         "name": "Fireplaces",
         "rawType": "int64",
         "type": "integer"
        },
        {
         "name": "FireplaceQu",
         "rawType": "object",
         "type": "unknown"
        },
        {
         "name": "GarageType",
         "rawType": "object",
         "type": "string"
        },
        {
         "name": "GarageYrBlt",
         "rawType": "float64",
         "type": "float"
        },
        {
         "name": "GarageFinish",
         "rawType": "object",
         "type": "string"
        },
        {
         "name": "GarageCars",
         "rawType": "int64",
         "type": "integer"
        },
        {
         "name": "GarageArea",
         "rawType": "int64",
         "type": "integer"
        },
        {
         "name": "GarageQual",
         "rawType": "object",
         "type": "string"
        },
        {
         "name": "GarageCond",
         "rawType": "object",
         "type": "string"
        },
        {
         "name": "PavedDrive",
         "rawType": "object",
         "type": "string"
        },
        {
         "name": "WoodDeckSF",
         "rawType": "int64",
         "type": "integer"
        },
        {
         "name": "OpenPorchSF",
         "rawType": "int64",
         "type": "integer"
        },
        {
         "name": "EnclosedPorch",
         "rawType": "int64",
         "type": "integer"
        },
        {
         "name": "3SsnPorch",
         "rawType": "int64",
         "type": "integer"
        },
        {
         "name": "ScreenPorch",
         "rawType": "int64",
         "type": "integer"
        },
        {
         "name": "PoolArea",
         "rawType": "int64",
         "type": "integer"
        },
        {
         "name": "PoolQC",
         "rawType": "object",
         "type": "unknown"
        },
        {
         "name": "Fence",
         "rawType": "object",
         "type": "unknown"
        },
        {
         "name": "MiscFeature",
         "rawType": "object",
         "type": "unknown"
        },
        {
         "name": "MiscVal",
         "rawType": "int64",
         "type": "integer"
        },
        {
         "name": "MoSold",
         "rawType": "int64",
         "type": "integer"
        },
        {
         "name": "YrSold",
         "rawType": "int64",
         "type": "integer"
        },
        {
         "name": "SaleType",
         "rawType": "object",
         "type": "string"
        },
        {
         "name": "SaleCondition",
         "rawType": "object",
         "type": "string"
        },
        {
         "name": "SalePrice",
         "rawType": "int64",
         "type": "integer"
        }
       ],
       "ref": "22aad9f8-1234-4f2f-ac09-66ee9195f674",
       "rows": [
        [
         "1",
         "60",
         "RL",
         "65.0",
         "8450",
         "Pave",
         null,
         "Reg",
         "Lvl",
         "AllPub",
         "Inside",
         "Gtl",
         "CollgCr",
         "Norm",
         "Norm",
         "1Fam",
         "2Story",
         "7",
         "5",
         "2003",
         "2003",
         "Gable",
         "CompShg",
         "VinylSd",
         "VinylSd",
         "BrkFace",
         "196.0",
         "Gd",
         "TA",
         "PConc",
         "Gd",
         "TA",
         "No",
         "GLQ",
         "706",
         "Unf",
         "0",
         "150",
         "856",
         "GasA",
         "Ex",
         "Y",
         "SBrkr",
         "856",
         "854",
         "0",
         "1710",
         "1",
         "0",
         "2",
         "1",
         "3",
         "1",
         "Gd",
         "8",
         "Typ",
         "0",
         null,
         "Attchd",
         "2003.0",
         "RFn",
         "2",
         "548",
         "TA",
         "TA",
         "Y",
         "0",
         "61",
         "0",
         "0",
         "0",
         "0",
         null,
         null,
         null,
         "0",
         "2",
         "2008",
         "WD",
         "Normal",
         "208500"
        ],
        [
         "2",
         "20",
         "RL",
         "80.0",
         "9600",
         "Pave",
         null,
         "Reg",
         "Lvl",
         "AllPub",
         "FR2",
         "Gtl",
         "Veenker",
         "Feedr",
         "Norm",
         "1Fam",
         "1Story",
         "6",
         "8",
         "1976",
         "1976",
         "Gable",
         "CompShg",
         "MetalSd",
         "MetalSd",
         null,
         "0.0",
         "TA",
         "TA",
         "CBlock",
         "Gd",
         "TA",
         "Gd",
         "ALQ",
         "978",
         "Unf",
         "0",
         "284",
         "1262",
         "GasA",
         "Ex",
         "Y",
         "SBrkr",
         "1262",
         "0",
         "0",
         "1262",
         "0",
         "1",
         "2",
         "0",
         "3",
         "1",
         "TA",
         "6",
         "Typ",
         "1",
         "TA",
         "Attchd",
         "1976.0",
         "RFn",
         "2",
         "460",
         "TA",
         "TA",
         "Y",
         "298",
         "0",
         "0",
         "0",
         "0",
         "0",
         null,
         null,
         null,
         "0",
         "5",
         "2007",
         "WD",
         "Normal",
         "181500"
        ],
        [
         "3",
         "60",
         "RL",
         "68.0",
         "11250",
         "Pave",
         null,
         "IR1",
         "Lvl",
         "AllPub",
         "Inside",
         "Gtl",
         "CollgCr",
         "Norm",
         "Norm",
         "1Fam",
         "2Story",
         "7",
         "5",
         "2001",
         "2002",
         "Gable",
         "CompShg",
         "VinylSd",
         "VinylSd",
         "BrkFace",
         "162.0",
         "Gd",
         "TA",
         "PConc",
         "Gd",
         "TA",
         "Mn",
         "GLQ",
         "486",
         "Unf",
         "0",
         "434",
         "920",
         "GasA",
         "Ex",
         "Y",
         "SBrkr",
         "920",
         "866",
         "0",
         "1786",
         "1",
         "0",
         "2",
         "1",
         "3",
         "1",
         "Gd",
         "6",
         "Typ",
         "1",
         "TA",
         "Attchd",
         "2001.0",
         "RFn",
         "2",
         "608",
         "TA",
         "TA",
         "Y",
         "0",
         "42",
         "0",
         "0",
         "0",
         "0",
         null,
         null,
         null,
         "0",
         "9",
         "2008",
         "WD",
         "Normal",
         "223500"
        ],
        [
         "4",
         "70",
         "RL",
         "60.0",
         "9550",
         "Pave",
         null,
         "IR1",
         "Lvl",
         "AllPub",
         "Corner",
         "Gtl",
         "Crawfor",
         "Norm",
         "Norm",
         "1Fam",
         "2Story",
         "7",
         "5",
         "1915",
         "1970",
         "Gable",
         "CompShg",
         "Wd Sdng",
         "Wd Shng",
         null,
         "0.0",
         "TA",
         "TA",
         "BrkTil",
         "TA",
         "Gd",
         "No",
         "ALQ",
         "216",
         "Unf",
         "0",
         "540",
         "756",
         "GasA",
         "Gd",
         "Y",
         "SBrkr",
         "961",
         "756",
         "0",
         "1717",
         "1",
         "0",
         "1",
         "0",
         "3",
         "1",
         "Gd",
         "7",
         "Typ",
         "1",
         "Gd",
         "Detchd",
         "1998.0",
         "Unf",
         "3",
         "642",
         "TA",
         "TA",
         "Y",
         "0",
         "35",
         "272",
         "0",
         "0",
         "0",
         null,
         null,
         null,
         "0",
         "2",
         "2006",
         "WD",
         "Abnorml",
         "140000"
        ],
        [
         "5",
         "60",
         "RL",
         "84.0",
         "14260",
         "Pave",
         null,
         "IR1",
         "Lvl",
         "AllPub",
         "FR2",
         "Gtl",
         "NoRidge",
         "Norm",
         "Norm",
         "1Fam",
         "2Story",
         "8",
         "5",
         "2000",
         "2000",
         "Gable",
         "CompShg",
         "VinylSd",
         "VinylSd",
         "BrkFace",
         "350.0",
         "Gd",
         "TA",
         "PConc",
         "Gd",
         "TA",
         "Av",
         "GLQ",
         "655",
         "Unf",
         "0",
         "490",
         "1145",
         "GasA",
         "Ex",
         "Y",
         "SBrkr",
         "1145",
         "1053",
         "0",
         "2198",
         "1",
         "0",
         "2",
         "1",
         "4",
         "1",
         "Gd",
         "9",
         "Typ",
         "1",
         "TA",
         "Attchd",
         "2000.0",
         "RFn",
         "3",
         "836",
         "TA",
         "TA",
         "Y",
         "192",
         "84",
         "0",
         "0",
         "0",
         "0",
         null,
         null,
         null,
         "0",
         "12",
         "2008",
         "WD",
         "Normal",
         "250000"
        ]
       ],
       "shape": {
        "columns": 80,
        "rows": 5
       }
      },
      "text/html": [
       "<div>\n",
       "<style scoped>\n",
       "    .dataframe tbody tr th:only-of-type {\n",
       "        vertical-align: middle;\n",
       "    }\n",
       "\n",
       "    .dataframe tbody tr th {\n",
       "        vertical-align: top;\n",
       "    }\n",
       "\n",
       "    .dataframe thead th {\n",
       "        text-align: right;\n",
       "    }\n",
       "</style>\n",
       "<table border=\"1\" class=\"dataframe\">\n",
       "  <thead>\n",
       "    <tr style=\"text-align: right;\">\n",
       "      <th></th>\n",
       "      <th>MSSubClass</th>\n",
       "      <th>MSZoning</th>\n",
       "      <th>LotFrontage</th>\n",
       "      <th>LotArea</th>\n",
       "      <th>Street</th>\n",
       "      <th>Alley</th>\n",
       "      <th>LotShape</th>\n",
       "      <th>LandContour</th>\n",
       "      <th>Utilities</th>\n",
       "      <th>LotConfig</th>\n",
       "      <th>...</th>\n",
       "      <th>PoolArea</th>\n",
       "      <th>PoolQC</th>\n",
       "      <th>Fence</th>\n",
       "      <th>MiscFeature</th>\n",
       "      <th>MiscVal</th>\n",
       "      <th>MoSold</th>\n",
       "      <th>YrSold</th>\n",
       "      <th>SaleType</th>\n",
       "      <th>SaleCondition</th>\n",
       "      <th>SalePrice</th>\n",
       "    </tr>\n",
       "    <tr>\n",
       "      <th>Id</th>\n",
       "      <th></th>\n",
       "      <th></th>\n",
       "      <th></th>\n",
       "      <th></th>\n",
       "      <th></th>\n",
       "      <th></th>\n",
       "      <th></th>\n",
       "      <th></th>\n",
       "      <th></th>\n",
       "      <th></th>\n",
       "      <th></th>\n",
       "      <th></th>\n",
       "      <th></th>\n",
       "      <th></th>\n",
       "      <th></th>\n",
       "      <th></th>\n",
       "      <th></th>\n",
       "      <th></th>\n",
       "      <th></th>\n",
       "      <th></th>\n",
       "      <th></th>\n",
       "    </tr>\n",
       "  </thead>\n",
       "  <tbody>\n",
       "    <tr>\n",
       "      <th>1</th>\n",
       "      <td>60</td>\n",
       "      <td>RL</td>\n",
       "      <td>65.000</td>\n",
       "      <td>8450</td>\n",
       "      <td>Pave</td>\n",
       "      <td>NaN</td>\n",
       "      <td>Reg</td>\n",
       "      <td>Lvl</td>\n",
       "      <td>AllPub</td>\n",
       "      <td>Inside</td>\n",
       "      <td>...</td>\n",
       "      <td>0</td>\n",
       "      <td>NaN</td>\n",
       "      <td>NaN</td>\n",
       "      <td>NaN</td>\n",
       "      <td>0</td>\n",
       "      <td>2</td>\n",
       "      <td>2008</td>\n",
       "      <td>WD</td>\n",
       "      <td>Normal</td>\n",
       "      <td>208500</td>\n",
       "    </tr>\n",
       "    <tr>\n",
       "      <th>2</th>\n",
       "      <td>20</td>\n",
       "      <td>RL</td>\n",
       "      <td>80.000</td>\n",
       "      <td>9600</td>\n",
       "      <td>Pave</td>\n",
       "      <td>NaN</td>\n",
       "      <td>Reg</td>\n",
       "      <td>Lvl</td>\n",
       "      <td>AllPub</td>\n",
       "      <td>FR2</td>\n",
       "      <td>...</td>\n",
       "      <td>0</td>\n",
       "      <td>NaN</td>\n",
       "      <td>NaN</td>\n",
       "      <td>NaN</td>\n",
       "      <td>0</td>\n",
       "      <td>5</td>\n",
       "      <td>2007</td>\n",
       "      <td>WD</td>\n",
       "      <td>Normal</td>\n",
       "      <td>181500</td>\n",
       "    </tr>\n",
       "    <tr>\n",
       "      <th>3</th>\n",
       "      <td>60</td>\n",
       "      <td>RL</td>\n",
       "      <td>68.000</td>\n",
       "      <td>11250</td>\n",
       "      <td>Pave</td>\n",
       "      <td>NaN</td>\n",
       "      <td>IR1</td>\n",
       "      <td>Lvl</td>\n",
       "      <td>AllPub</td>\n",
       "      <td>Inside</td>\n",
       "      <td>...</td>\n",
       "      <td>0</td>\n",
       "      <td>NaN</td>\n",
       "      <td>NaN</td>\n",
       "      <td>NaN</td>\n",
       "      <td>0</td>\n",
       "      <td>9</td>\n",
       "      <td>2008</td>\n",
       "      <td>WD</td>\n",
       "      <td>Normal</td>\n",
       "      <td>223500</td>\n",
       "    </tr>\n",
       "    <tr>\n",
       "      <th>4</th>\n",
       "      <td>70</td>\n",
       "      <td>RL</td>\n",
       "      <td>60.000</td>\n",
       "      <td>9550</td>\n",
       "      <td>Pave</td>\n",
       "      <td>NaN</td>\n",
       "      <td>IR1</td>\n",
       "      <td>Lvl</td>\n",
       "      <td>AllPub</td>\n",
       "      <td>Corner</td>\n",
       "      <td>...</td>\n",
       "      <td>0</td>\n",
       "      <td>NaN</td>\n",
       "      <td>NaN</td>\n",
       "      <td>NaN</td>\n",
       "      <td>0</td>\n",
       "      <td>2</td>\n",
       "      <td>2006</td>\n",
       "      <td>WD</td>\n",
       "      <td>Abnorml</td>\n",
       "      <td>140000</td>\n",
       "    </tr>\n",
       "    <tr>\n",
       "      <th>5</th>\n",
       "      <td>60</td>\n",
       "      <td>RL</td>\n",
       "      <td>84.000</td>\n",
       "      <td>14260</td>\n",
       "      <td>Pave</td>\n",
       "      <td>NaN</td>\n",
       "      <td>IR1</td>\n",
       "      <td>Lvl</td>\n",
       "      <td>AllPub</td>\n",
       "      <td>FR2</td>\n",
       "      <td>...</td>\n",
       "      <td>0</td>\n",
       "      <td>NaN</td>\n",
       "      <td>NaN</td>\n",
       "      <td>NaN</td>\n",
       "      <td>0</td>\n",
       "      <td>12</td>\n",
       "      <td>2008</td>\n",
       "      <td>WD</td>\n",
       "      <td>Normal</td>\n",
       "      <td>250000</td>\n",
       "    </tr>\n",
       "  </tbody>\n",
       "</table>\n",
       "<p>5 rows × 80 columns</p>\n",
       "</div>"
      ],
      "text/plain": [
       "    MSSubClass MSZoning  LotFrontage  LotArea Street Alley LotShape  \\\n",
       "Id                                                                    \n",
       "1           60       RL       65.000     8450   Pave   NaN      Reg   \n",
       "2           20       RL       80.000     9600   Pave   NaN      Reg   \n",
       "3           60       RL       68.000    11250   Pave   NaN      IR1   \n",
       "4           70       RL       60.000     9550   Pave   NaN      IR1   \n",
       "5           60       RL       84.000    14260   Pave   NaN      IR1   \n",
       "\n",
       "   LandContour Utilities LotConfig  ... PoolArea PoolQC Fence MiscFeature  \\\n",
       "Id                                  ...                                     \n",
       "1          Lvl    AllPub    Inside  ...        0    NaN   NaN         NaN   \n",
       "2          Lvl    AllPub       FR2  ...        0    NaN   NaN         NaN   \n",
       "3          Lvl    AllPub    Inside  ...        0    NaN   NaN         NaN   \n",
       "4          Lvl    AllPub    Corner  ...        0    NaN   NaN         NaN   \n",
       "5          Lvl    AllPub       FR2  ...        0    NaN   NaN         NaN   \n",
       "\n",
       "   MiscVal MoSold  YrSold  SaleType  SaleCondition  SalePrice  \n",
       "Id                                                             \n",
       "1        0      2    2008        WD         Normal     208500  \n",
       "2        0      5    2007        WD         Normal     181500  \n",
       "3        0      9    2008        WD         Normal     223500  \n",
       "4        0      2    2006        WD        Abnorml     140000  \n",
       "5        0     12    2008        WD         Normal     250000  \n",
       "\n",
       "[5 rows x 80 columns]"
      ]
     },
     "execution_count": 4,
     "metadata": {},
     "output_type": "execute_result"
    }
   ],
   "source": [
    "train = pd.read_csv(in_file_paths['train'], index_col='Id')\n",
    "test = pd.read_csv(in_file_paths['test'], index_col='Id')\n",
    "print(f\"successfully read dataset...\\ntrain shape = {train.shape}\\ntest shape = {test.shape}\")\n",
    "train.head()"
   ]
  },
  {
   "cell_type": "code",
   "execution_count": 5,
   "id": "a81b43ba",
   "metadata": {},
   "outputs": [
    {
     "data": {
      "application/vnd.microsoft.datawrangler.viewer.v0+json": {
       "columns": [
        {
         "name": "index",
         "rawType": "object",
         "type": "string"
        },
        {
         "name": "MSSubClass",
         "rawType": "float64",
         "type": "float"
        },
        {
         "name": "LotFrontage",
         "rawType": "float64",
         "type": "float"
        },
        {
         "name": "LotArea",
         "rawType": "float64",
         "type": "float"
        },
        {
         "name": "OverallQual",
         "rawType": "float64",
         "type": "float"
        },
        {
         "name": "OverallCond",
         "rawType": "float64",
         "type": "float"
        },
        {
         "name": "YearBuilt",
         "rawType": "float64",
         "type": "float"
        },
        {
         "name": "YearRemodAdd",
         "rawType": "float64",
         "type": "float"
        },
        {
         "name": "MasVnrArea",
         "rawType": "float64",
         "type": "float"
        },
        {
         "name": "BsmtFinSF1",
         "rawType": "float64",
         "type": "float"
        },
        {
         "name": "BsmtFinSF2",
         "rawType": "float64",
         "type": "float"
        },
        {
         "name": "BsmtUnfSF",
         "rawType": "float64",
         "type": "float"
        },
        {
         "name": "TotalBsmtSF",
         "rawType": "float64",
         "type": "float"
        },
        {
         "name": "1stFlrSF",
         "rawType": "float64",
         "type": "float"
        },
        {
         "name": "2ndFlrSF",
         "rawType": "float64",
         "type": "float"
        },
        {
         "name": "LowQualFinSF",
         "rawType": "float64",
         "type": "float"
        },
        {
         "name": "GrLivArea",
         "rawType": "float64",
         "type": "float"
        },
        {
         "name": "BsmtFullBath",
         "rawType": "float64",
         "type": "float"
        },
        {
         "name": "BsmtHalfBath",
         "rawType": "float64",
         "type": "float"
        },
        {
         "name": "FullBath",
         "rawType": "float64",
         "type": "float"
        },
        {
         "name": "HalfBath",
         "rawType": "float64",
         "type": "float"
        },
        {
         "name": "BedroomAbvGr",
         "rawType": "float64",
         "type": "float"
        },
        {
         "name": "KitchenAbvGr",
         "rawType": "float64",
         "type": "float"
        },
        {
         "name": "TotRmsAbvGrd",
         "rawType": "float64",
         "type": "float"
        },
        {
         "name": "Fireplaces",
         "rawType": "float64",
         "type": "float"
        },
        {
         "name": "GarageYrBlt",
         "rawType": "float64",
         "type": "float"
        },
        {
         "name": "GarageCars",
         "rawType": "float64",
         "type": "float"
        },
        {
         "name": "GarageArea",
         "rawType": "float64",
         "type": "float"
        },
        {
         "name": "WoodDeckSF",
         "rawType": "float64",
         "type": "float"
        },
        {
         "name": "OpenPorchSF",
         "rawType": "float64",
         "type": "float"
        },
        {
         "name": "EnclosedPorch",
         "rawType": "float64",
         "type": "float"
        },
        {
         "name": "3SsnPorch",
         "rawType": "float64",
         "type": "float"
        },
        {
         "name": "ScreenPorch",
         "rawType": "float64",
         "type": "float"
        },
        {
         "name": "PoolArea",
         "rawType": "float64",
         "type": "float"
        },
        {
         "name": "MiscVal",
         "rawType": "float64",
         "type": "float"
        },
        {
         "name": "MoSold",
         "rawType": "float64",
         "type": "float"
        },
        {
         "name": "YrSold",
         "rawType": "float64",
         "type": "float"
        },
        {
         "name": "SalePrice",
         "rawType": "float64",
         "type": "float"
        }
       ],
       "ref": "9240ca73-c9ba-4b3b-a1e6-c8e61ceaecd3",
       "rows": [
        [
         "count",
         "1460.0",
         "1201.0",
         "1460.0",
         "1460.0",
         "1460.0",
         "1460.0",
         "1460.0",
         "1452.0",
         "1460.0",
         "1460.0",
         "1460.0",
         "1460.0",
         "1460.0",
         "1460.0",
         "1460.0",
         "1460.0",
         "1460.0",
         "1460.0",
         "1460.0",
         "1460.0",
         "1460.0",
         "1460.0",
         "1460.0",
         "1460.0",
         "1379.0",
         "1460.0",
         "1460.0",
         "1460.0",
         "1460.0",
         "1460.0",
         "1460.0",
         "1460.0",
         "1460.0",
         "1460.0",
         "1460.0",
         "1460.0",
         "1460.0"
        ],
        [
         "mean",
         "56.897260273972606",
         "70.04995836802665",
         "10516.828082191782",
         "6.0993150684931505",
         "5.575342465753424",
         "1971.267808219178",
         "1984.8657534246574",
         "103.68526170798899",
         "443.6397260273973",
         "46.54931506849315",
         "567.2404109589041",
         "1057.4294520547944",
         "1162.626712328767",
         "346.99246575342465",
         "5.844520547945206",
         "1515.463698630137",
         "0.42534246575342466",
         "0.057534246575342465",
         "1.5650684931506849",
         "0.38287671232876713",
         "2.8664383561643834",
         "1.0465753424657533",
         "6.517808219178082",
         "0.613013698630137",
         "1978.5061638868744",
         "1.7671232876712328",
         "472.9801369863014",
         "94.2445205479452",
         "46.66027397260274",
         "21.954109589041096",
         "3.4095890410958902",
         "15.060958904109588",
         "2.758904109589041",
         "43.489041095890414",
         "6.321917808219178",
         "2007.8157534246575",
         "180921.19589041095"
        ],
        [
         "std",
         "42.300570993810425",
         "24.284751774483208",
         "9981.26493237915",
         "1.3829965467415934",
         "1.1127993367127316",
         "30.202904042525258",
         "20.645406807709413",
         "181.0662065872166",
         "456.0980908409277",
         "161.31927280654173",
         "441.86695529243417",
         "438.7053244594708",
         "386.5877380410744",
         "436.5284358862568",
         "48.62308143352019",
         "525.4803834232025",
         "0.5189106060898065",
         "0.23875264627921178",
         "0.5509158012954317",
         "0.5028853810928914",
         "0.8157780441442284",
         "0.22033819838403068",
         "1.6253932905840505",
         "0.6446663863122295",
         "24.689724768590242",
         "0.7473150101111095",
         "213.80484145338042",
         "125.3387943517241",
         "66.25602767664971",
         "61.1191486017286",
         "29.31733055678188",
         "55.757415281874174",
         "40.17730694453019",
         "496.12302445794415",
         "2.7036262083595126",
         "1.3280951205521099",
         "79442.50288288662"
        ],
        [
         "min",
         "20.0",
         "21.0",
         "1300.0",
         "1.0",
         "1.0",
         "1872.0",
         "1950.0",
         "0.0",
         "0.0",
         "0.0",
         "0.0",
         "0.0",
         "334.0",
         "0.0",
         "0.0",
         "334.0",
         "0.0",
         "0.0",
         "0.0",
         "0.0",
         "0.0",
         "0.0",
         "2.0",
         "0.0",
         "1900.0",
         "0.0",
         "0.0",
         "0.0",
         "0.0",
         "0.0",
         "0.0",
         "0.0",
         "0.0",
         "0.0",
         "1.0",
         "2006.0",
         "34900.0"
        ],
        [
         "25%",
         "20.0",
         "59.0",
         "7553.5",
         "5.0",
         "5.0",
         "1954.0",
         "1967.0",
         "0.0",
         "0.0",
         "0.0",
         "223.0",
         "795.75",
         "882.0",
         "0.0",
         "0.0",
         "1129.5",
         "0.0",
         "0.0",
         "1.0",
         "0.0",
         "2.0",
         "1.0",
         "5.0",
         "0.0",
         "1961.0",
         "1.0",
         "334.5",
         "0.0",
         "0.0",
         "0.0",
         "0.0",
         "0.0",
         "0.0",
         "0.0",
         "5.0",
         "2007.0",
         "129975.0"
        ],
        [
         "50%",
         "50.0",
         "69.0",
         "9478.5",
         "6.0",
         "5.0",
         "1973.0",
         "1994.0",
         "0.0",
         "383.5",
         "0.0",
         "477.5",
         "991.5",
         "1087.0",
         "0.0",
         "0.0",
         "1464.0",
         "0.0",
         "0.0",
         "2.0",
         "0.0",
         "3.0",
         "1.0",
         "6.0",
         "1.0",
         "1980.0",
         "2.0",
         "480.0",
         "0.0",
         "25.0",
         "0.0",
         "0.0",
         "0.0",
         "0.0",
         "0.0",
         "6.0",
         "2008.0",
         "163000.0"
        ],
        [
         "75%",
         "70.0",
         "80.0",
         "11601.5",
         "7.0",
         "6.0",
         "2000.0",
         "2004.0",
         "166.0",
         "712.25",
         "0.0",
         "808.0",
         "1298.25",
         "1391.25",
         "728.0",
         "0.0",
         "1776.75",
         "1.0",
         "0.0",
         "2.0",
         "1.0",
         "3.0",
         "1.0",
         "7.0",
         "1.0",
         "2002.0",
         "2.0",
         "576.0",
         "168.0",
         "68.0",
         "0.0",
         "0.0",
         "0.0",
         "0.0",
         "0.0",
         "8.0",
         "2009.0",
         "214000.0"
        ],
        [
         "max",
         "190.0",
         "313.0",
         "215245.0",
         "10.0",
         "9.0",
         "2010.0",
         "2010.0",
         "1600.0",
         "5644.0",
         "1474.0",
         "2336.0",
         "6110.0",
         "4692.0",
         "2065.0",
         "572.0",
         "5642.0",
         "3.0",
         "2.0",
         "3.0",
         "2.0",
         "8.0",
         "3.0",
         "14.0",
         "3.0",
         "2010.0",
         "4.0",
         "1418.0",
         "857.0",
         "547.0",
         "552.0",
         "508.0",
         "480.0",
         "738.0",
         "15500.0",
         "12.0",
         "2010.0",
         "755000.0"
        ]
       ],
       "shape": {
        "columns": 37,
        "rows": 8
       }
      },
      "text/html": [
       "<div>\n",
       "<style scoped>\n",
       "    .dataframe tbody tr th:only-of-type {\n",
       "        vertical-align: middle;\n",
       "    }\n",
       "\n",
       "    .dataframe tbody tr th {\n",
       "        vertical-align: top;\n",
       "    }\n",
       "\n",
       "    .dataframe thead th {\n",
       "        text-align: right;\n",
       "    }\n",
       "</style>\n",
       "<table border=\"1\" class=\"dataframe\">\n",
       "  <thead>\n",
       "    <tr style=\"text-align: right;\">\n",
       "      <th></th>\n",
       "      <th>MSSubClass</th>\n",
       "      <th>LotFrontage</th>\n",
       "      <th>LotArea</th>\n",
       "      <th>OverallQual</th>\n",
       "      <th>OverallCond</th>\n",
       "      <th>YearBuilt</th>\n",
       "      <th>YearRemodAdd</th>\n",
       "      <th>MasVnrArea</th>\n",
       "      <th>BsmtFinSF1</th>\n",
       "      <th>BsmtFinSF2</th>\n",
       "      <th>...</th>\n",
       "      <th>WoodDeckSF</th>\n",
       "      <th>OpenPorchSF</th>\n",
       "      <th>EnclosedPorch</th>\n",
       "      <th>3SsnPorch</th>\n",
       "      <th>ScreenPorch</th>\n",
       "      <th>PoolArea</th>\n",
       "      <th>MiscVal</th>\n",
       "      <th>MoSold</th>\n",
       "      <th>YrSold</th>\n",
       "      <th>SalePrice</th>\n",
       "    </tr>\n",
       "  </thead>\n",
       "  <tbody>\n",
       "    <tr>\n",
       "      <th>count</th>\n",
       "      <td>1460.000</td>\n",
       "      <td>1201.000</td>\n",
       "      <td>1460.000</td>\n",
       "      <td>1460.000</td>\n",
       "      <td>1460.000</td>\n",
       "      <td>1460.000</td>\n",
       "      <td>1460.000</td>\n",
       "      <td>1452.000</td>\n",
       "      <td>1460.000</td>\n",
       "      <td>1460.000</td>\n",
       "      <td>...</td>\n",
       "      <td>1460.000</td>\n",
       "      <td>1460.000</td>\n",
       "      <td>1460.000</td>\n",
       "      <td>1460.000</td>\n",
       "      <td>1460.000</td>\n",
       "      <td>1460.000</td>\n",
       "      <td>1460.000</td>\n",
       "      <td>1460.000</td>\n",
       "      <td>1460.000</td>\n",
       "      <td>1460.000</td>\n",
       "    </tr>\n",
       "    <tr>\n",
       "      <th>mean</th>\n",
       "      <td>56.897</td>\n",
       "      <td>70.050</td>\n",
       "      <td>10516.828</td>\n",
       "      <td>6.099</td>\n",
       "      <td>5.575</td>\n",
       "      <td>1971.268</td>\n",
       "      <td>1984.866</td>\n",
       "      <td>103.685</td>\n",
       "      <td>443.640</td>\n",
       "      <td>46.549</td>\n",
       "      <td>...</td>\n",
       "      <td>94.245</td>\n",
       "      <td>46.660</td>\n",
       "      <td>21.954</td>\n",
       "      <td>3.410</td>\n",
       "      <td>15.061</td>\n",
       "      <td>2.759</td>\n",
       "      <td>43.489</td>\n",
       "      <td>6.322</td>\n",
       "      <td>2007.816</td>\n",
       "      <td>180921.196</td>\n",
       "    </tr>\n",
       "    <tr>\n",
       "      <th>std</th>\n",
       "      <td>42.301</td>\n",
       "      <td>24.285</td>\n",
       "      <td>9981.265</td>\n",
       "      <td>1.383</td>\n",
       "      <td>1.113</td>\n",
       "      <td>30.203</td>\n",
       "      <td>20.645</td>\n",
       "      <td>181.066</td>\n",
       "      <td>456.098</td>\n",
       "      <td>161.319</td>\n",
       "      <td>...</td>\n",
       "      <td>125.339</td>\n",
       "      <td>66.256</td>\n",
       "      <td>61.119</td>\n",
       "      <td>29.317</td>\n",
       "      <td>55.757</td>\n",
       "      <td>40.177</td>\n",
       "      <td>496.123</td>\n",
       "      <td>2.704</td>\n",
       "      <td>1.328</td>\n",
       "      <td>79442.503</td>\n",
       "    </tr>\n",
       "    <tr>\n",
       "      <th>min</th>\n",
       "      <td>20.000</td>\n",
       "      <td>21.000</td>\n",
       "      <td>1300.000</td>\n",
       "      <td>1.000</td>\n",
       "      <td>1.000</td>\n",
       "      <td>1872.000</td>\n",
       "      <td>1950.000</td>\n",
       "      <td>0.000</td>\n",
       "      <td>0.000</td>\n",
       "      <td>0.000</td>\n",
       "      <td>...</td>\n",
       "      <td>0.000</td>\n",
       "      <td>0.000</td>\n",
       "      <td>0.000</td>\n",
       "      <td>0.000</td>\n",
       "      <td>0.000</td>\n",
       "      <td>0.000</td>\n",
       "      <td>0.000</td>\n",
       "      <td>1.000</td>\n",
       "      <td>2006.000</td>\n",
       "      <td>34900.000</td>\n",
       "    </tr>\n",
       "    <tr>\n",
       "      <th>25%</th>\n",
       "      <td>20.000</td>\n",
       "      <td>59.000</td>\n",
       "      <td>7553.500</td>\n",
       "      <td>5.000</td>\n",
       "      <td>5.000</td>\n",
       "      <td>1954.000</td>\n",
       "      <td>1967.000</td>\n",
       "      <td>0.000</td>\n",
       "      <td>0.000</td>\n",
       "      <td>0.000</td>\n",
       "      <td>...</td>\n",
       "      <td>0.000</td>\n",
       "      <td>0.000</td>\n",
       "      <td>0.000</td>\n",
       "      <td>0.000</td>\n",
       "      <td>0.000</td>\n",
       "      <td>0.000</td>\n",
       "      <td>0.000</td>\n",
       "      <td>5.000</td>\n",
       "      <td>2007.000</td>\n",
       "      <td>129975.000</td>\n",
       "    </tr>\n",
       "    <tr>\n",
       "      <th>50%</th>\n",
       "      <td>50.000</td>\n",
       "      <td>69.000</td>\n",
       "      <td>9478.500</td>\n",
       "      <td>6.000</td>\n",
       "      <td>5.000</td>\n",
       "      <td>1973.000</td>\n",
       "      <td>1994.000</td>\n",
       "      <td>0.000</td>\n",
       "      <td>383.500</td>\n",
       "      <td>0.000</td>\n",
       "      <td>...</td>\n",
       "      <td>0.000</td>\n",
       "      <td>25.000</td>\n",
       "      <td>0.000</td>\n",
       "      <td>0.000</td>\n",
       "      <td>0.000</td>\n",
       "      <td>0.000</td>\n",
       "      <td>0.000</td>\n",
       "      <td>6.000</td>\n",
       "      <td>2008.000</td>\n",
       "      <td>163000.000</td>\n",
       "    </tr>\n",
       "    <tr>\n",
       "      <th>75%</th>\n",
       "      <td>70.000</td>\n",
       "      <td>80.000</td>\n",
       "      <td>11601.500</td>\n",
       "      <td>7.000</td>\n",
       "      <td>6.000</td>\n",
       "      <td>2000.000</td>\n",
       "      <td>2004.000</td>\n",
       "      <td>166.000</td>\n",
       "      <td>712.250</td>\n",
       "      <td>0.000</td>\n",
       "      <td>...</td>\n",
       "      <td>168.000</td>\n",
       "      <td>68.000</td>\n",
       "      <td>0.000</td>\n",
       "      <td>0.000</td>\n",
       "      <td>0.000</td>\n",
       "      <td>0.000</td>\n",
       "      <td>0.000</td>\n",
       "      <td>8.000</td>\n",
       "      <td>2009.000</td>\n",
       "      <td>214000.000</td>\n",
       "    </tr>\n",
       "    <tr>\n",
       "      <th>max</th>\n",
       "      <td>190.000</td>\n",
       "      <td>313.000</td>\n",
       "      <td>215245.000</td>\n",
       "      <td>10.000</td>\n",
       "      <td>9.000</td>\n",
       "      <td>2010.000</td>\n",
       "      <td>2010.000</td>\n",
       "      <td>1600.000</td>\n",
       "      <td>5644.000</td>\n",
       "      <td>1474.000</td>\n",
       "      <td>...</td>\n",
       "      <td>857.000</td>\n",
       "      <td>547.000</td>\n",
       "      <td>552.000</td>\n",
       "      <td>508.000</td>\n",
       "      <td>480.000</td>\n",
       "      <td>738.000</td>\n",
       "      <td>15500.000</td>\n",
       "      <td>12.000</td>\n",
       "      <td>2010.000</td>\n",
       "      <td>755000.000</td>\n",
       "    </tr>\n",
       "  </tbody>\n",
       "</table>\n",
       "<p>8 rows × 37 columns</p>\n",
       "</div>"
      ],
      "text/plain": [
       "       MSSubClass  LotFrontage    LotArea  OverallQual  OverallCond  \\\n",
       "count    1460.000     1201.000   1460.000     1460.000     1460.000   \n",
       "mean       56.897       70.050  10516.828        6.099        5.575   \n",
       "std        42.301       24.285   9981.265        1.383        1.113   \n",
       "min        20.000       21.000   1300.000        1.000        1.000   \n",
       "25%        20.000       59.000   7553.500        5.000        5.000   \n",
       "50%        50.000       69.000   9478.500        6.000        5.000   \n",
       "75%        70.000       80.000  11601.500        7.000        6.000   \n",
       "max       190.000      313.000 215245.000       10.000        9.000   \n",
       "\n",
       "       YearBuilt  YearRemodAdd  MasVnrArea  BsmtFinSF1  BsmtFinSF2  ...  \\\n",
       "count   1460.000      1460.000    1452.000    1460.000    1460.000  ...   \n",
       "mean    1971.268      1984.866     103.685     443.640      46.549  ...   \n",
       "std       30.203        20.645     181.066     456.098     161.319  ...   \n",
       "min     1872.000      1950.000       0.000       0.000       0.000  ...   \n",
       "25%     1954.000      1967.000       0.000       0.000       0.000  ...   \n",
       "50%     1973.000      1994.000       0.000     383.500       0.000  ...   \n",
       "75%     2000.000      2004.000     166.000     712.250       0.000  ...   \n",
       "max     2010.000      2010.000    1600.000    5644.000    1474.000  ...   \n",
       "\n",
       "       WoodDeckSF  OpenPorchSF  EnclosedPorch  3SsnPorch  ScreenPorch  \\\n",
       "count    1460.000     1460.000       1460.000   1460.000     1460.000   \n",
       "mean       94.245       46.660         21.954      3.410       15.061   \n",
       "std       125.339       66.256         61.119     29.317       55.757   \n",
       "min         0.000        0.000          0.000      0.000        0.000   \n",
       "25%         0.000        0.000          0.000      0.000        0.000   \n",
       "50%         0.000       25.000          0.000      0.000        0.000   \n",
       "75%       168.000       68.000          0.000      0.000        0.000   \n",
       "max       857.000      547.000        552.000    508.000      480.000   \n",
       "\n",
       "       PoolArea   MiscVal   MoSold   YrSold  SalePrice  \n",
       "count  1460.000  1460.000 1460.000 1460.000   1460.000  \n",
       "mean      2.759    43.489    6.322 2007.816 180921.196  \n",
       "std      40.177   496.123    2.704    1.328  79442.503  \n",
       "min       0.000     0.000    1.000 2006.000  34900.000  \n",
       "25%       0.000     0.000    5.000 2007.000 129975.000  \n",
       "50%       0.000     0.000    6.000 2008.000 163000.000  \n",
       "75%       0.000     0.000    8.000 2009.000 214000.000  \n",
       "max     738.000 15500.000   12.000 2010.000 755000.000  \n",
       "\n",
       "[8 rows x 37 columns]"
      ]
     },
     "execution_count": 5,
     "metadata": {},
     "output_type": "execute_result"
    }
   ],
   "source": [
    "train.describe()"
   ]
  },
  {
   "cell_type": "markdown",
   "id": "df9eb4f4",
   "metadata": {},
   "source": [
    "## Cleaning\n",
    "\n",
    "We will now deal with missing values."
   ]
  },
  {
   "cell_type": "code",
   "execution_count": 6,
   "id": "2b330372",
   "metadata": {},
   "outputs": [
    {
     "data": {
      "application/vnd.microsoft.datawrangler.viewer.v0+json": {
       "columns": [
        {
         "name": "index",
         "rawType": "object",
         "type": "string"
        },
        {
         "name": "Total",
         "rawType": "int64",
         "type": "integer"
        },
        {
         "name": "Pctg",
         "rawType": "float64",
         "type": "float"
        },
        {
         "name": "Type",
         "rawType": "object",
         "type": "unknown"
        }
       ],
       "ref": "9bb783fa-4927-4bc7-832b-edc69e4b47de",
       "rows": [
        [
         "PoolQC",
         "1453",
         "0.9952054794520548",
         "object"
        ],
        [
         "MiscFeature",
         "1406",
         "0.963013698630137",
         "object"
        ],
        [
         "Alley",
         "1369",
         "0.9376712328767123",
         "object"
        ],
        [
         "Fence",
         "1179",
         "0.8075342465753425",
         "object"
        ],
        [
         "MasVnrType",
         "872",
         "0.5972602739726027",
         "object"
        ],
        [
         "FireplaceQu",
         "690",
         "0.4726027397260274",
         "object"
        ],
        [
         "LotFrontage",
         "259",
         "0.1773972602739726",
         "float64"
        ],
        [
         "GarageType",
         "81",
         "0.05547945205479452",
         "object"
        ],
        [
         "GarageYrBlt",
         "81",
         "0.05547945205479452",
         "float64"
        ],
        [
         "GarageFinish",
         "81",
         "0.05547945205479452",
         "object"
        ],
        [
         "GarageQual",
         "81",
         "0.05547945205479452",
         "object"
        ],
        [
         "GarageCond",
         "81",
         "0.05547945205479452",
         "object"
        ],
        [
         "BsmtExposure",
         "38",
         "0.026027397260273973",
         "object"
        ],
        [
         "BsmtFinType2",
         "38",
         "0.026027397260273973",
         "object"
        ],
        [
         "BsmtQual",
         "37",
         "0.025342465753424658",
         "object"
        ],
        [
         "BsmtCond",
         "37",
         "0.025342465753424658",
         "object"
        ],
        [
         "BsmtFinType1",
         "37",
         "0.025342465753424658",
         "object"
        ],
        [
         "MasVnrArea",
         "8",
         "0.005479452054794521",
         "float64"
        ],
        [
         "Electrical",
         "1",
         "0.0006849315068493151",
         "object"
        ]
       ],
       "shape": {
        "columns": 3,
        "rows": 19
       }
      },
      "text/html": [
       "<div>\n",
       "<style scoped>\n",
       "    .dataframe tbody tr th:only-of-type {\n",
       "        vertical-align: middle;\n",
       "    }\n",
       "\n",
       "    .dataframe tbody tr th {\n",
       "        vertical-align: top;\n",
       "    }\n",
       "\n",
       "    .dataframe thead th {\n",
       "        text-align: right;\n",
       "    }\n",
       "</style>\n",
       "<table border=\"1\" class=\"dataframe\">\n",
       "  <thead>\n",
       "    <tr style=\"text-align: right;\">\n",
       "      <th></th>\n",
       "      <th>Total</th>\n",
       "      <th>Pctg</th>\n",
       "      <th>Type</th>\n",
       "    </tr>\n",
       "  </thead>\n",
       "  <tbody>\n",
       "    <tr>\n",
       "      <th>PoolQC</th>\n",
       "      <td>1453</td>\n",
       "      <td>0.995</td>\n",
       "      <td>object</td>\n",
       "    </tr>\n",
       "    <tr>\n",
       "      <th>MiscFeature</th>\n",
       "      <td>1406</td>\n",
       "      <td>0.963</td>\n",
       "      <td>object</td>\n",
       "    </tr>\n",
       "    <tr>\n",
       "      <th>Alley</th>\n",
       "      <td>1369</td>\n",
       "      <td>0.938</td>\n",
       "      <td>object</td>\n",
       "    </tr>\n",
       "    <tr>\n",
       "      <th>Fence</th>\n",
       "      <td>1179</td>\n",
       "      <td>0.808</td>\n",
       "      <td>object</td>\n",
       "    </tr>\n",
       "    <tr>\n",
       "      <th>MasVnrType</th>\n",
       "      <td>872</td>\n",
       "      <td>0.597</td>\n",
       "      <td>object</td>\n",
       "    </tr>\n",
       "    <tr>\n",
       "      <th>FireplaceQu</th>\n",
       "      <td>690</td>\n",
       "      <td>0.473</td>\n",
       "      <td>object</td>\n",
       "    </tr>\n",
       "    <tr>\n",
       "      <th>LotFrontage</th>\n",
       "      <td>259</td>\n",
       "      <td>0.177</td>\n",
       "      <td>float64</td>\n",
       "    </tr>\n",
       "    <tr>\n",
       "      <th>GarageType</th>\n",
       "      <td>81</td>\n",
       "      <td>0.055</td>\n",
       "      <td>object</td>\n",
       "    </tr>\n",
       "    <tr>\n",
       "      <th>GarageYrBlt</th>\n",
       "      <td>81</td>\n",
       "      <td>0.055</td>\n",
       "      <td>float64</td>\n",
       "    </tr>\n",
       "    <tr>\n",
       "      <th>GarageFinish</th>\n",
       "      <td>81</td>\n",
       "      <td>0.055</td>\n",
       "      <td>object</td>\n",
       "    </tr>\n",
       "    <tr>\n",
       "      <th>GarageQual</th>\n",
       "      <td>81</td>\n",
       "      <td>0.055</td>\n",
       "      <td>object</td>\n",
       "    </tr>\n",
       "    <tr>\n",
       "      <th>GarageCond</th>\n",
       "      <td>81</td>\n",
       "      <td>0.055</td>\n",
       "      <td>object</td>\n",
       "    </tr>\n",
       "    <tr>\n",
       "      <th>BsmtExposure</th>\n",
       "      <td>38</td>\n",
       "      <td>0.026</td>\n",
       "      <td>object</td>\n",
       "    </tr>\n",
       "    <tr>\n",
       "      <th>BsmtFinType2</th>\n",
       "      <td>38</td>\n",
       "      <td>0.026</td>\n",
       "      <td>object</td>\n",
       "    </tr>\n",
       "    <tr>\n",
       "      <th>BsmtQual</th>\n",
       "      <td>37</td>\n",
       "      <td>0.025</td>\n",
       "      <td>object</td>\n",
       "    </tr>\n",
       "    <tr>\n",
       "      <th>BsmtCond</th>\n",
       "      <td>37</td>\n",
       "      <td>0.025</td>\n",
       "      <td>object</td>\n",
       "    </tr>\n",
       "    <tr>\n",
       "      <th>BsmtFinType1</th>\n",
       "      <td>37</td>\n",
       "      <td>0.025</td>\n",
       "      <td>object</td>\n",
       "    </tr>\n",
       "    <tr>\n",
       "      <th>MasVnrArea</th>\n",
       "      <td>8</td>\n",
       "      <td>0.005</td>\n",
       "      <td>float64</td>\n",
       "    </tr>\n",
       "    <tr>\n",
       "      <th>Electrical</th>\n",
       "      <td>1</td>\n",
       "      <td>0.001</td>\n",
       "      <td>object</td>\n",
       "    </tr>\n",
       "  </tbody>\n",
       "</table>\n",
       "</div>"
      ],
      "text/plain": [
       "              Total  Pctg     Type\n",
       "PoolQC         1453 0.995   object\n",
       "MiscFeature    1406 0.963   object\n",
       "Alley          1369 0.938   object\n",
       "Fence          1179 0.808   object\n",
       "MasVnrType      872 0.597   object\n",
       "FireplaceQu     690 0.473   object\n",
       "LotFrontage     259 0.177  float64\n",
       "GarageType       81 0.055   object\n",
       "GarageYrBlt      81 0.055  float64\n",
       "GarageFinish     81 0.055   object\n",
       "GarageQual       81 0.055   object\n",
       "GarageCond       81 0.055   object\n",
       "BsmtExposure     38 0.026   object\n",
       "BsmtFinType2     38 0.026   object\n",
       "BsmtQual         37 0.025   object\n",
       "BsmtCond         37 0.025   object\n",
       "BsmtFinType1     37 0.025   object\n",
       "MasVnrArea        8 0.005  float64\n",
       "Electrical        1 0.001   object"
      ]
     },
     "execution_count": 6,
     "metadata": {},
     "output_type": "execute_result"
    }
   ],
   "source": [
    "nanDict = {\n",
    "    'Total': train.isnull().sum(),\n",
    "    'Pctg': train.isnull().sum() / train.isnull().count(),\n",
    "    'Type': train.dtypes\n",
    "}\n",
    "\n",
    "nanStats = pd.DataFrame.from_dict(nanDict).sort_values(by=['Total', 'Pctg'], ascending=False)\n",
    "nanStats = nanStats[nanStats['Total'] > 0]\n",
    "nanStats"
   ]
  },
  {
   "cell_type": "code",
   "execution_count": 7,
   "id": "27aa0251",
   "metadata": {},
   "outputs": [],
   "source": [
    "# make a copy of original train data\n",
    "baseTrain = train.copy()\n",
    "\n",
    "# We should be OK to drop PoolQC, since it is ~99% NANs\n",
    "train.drop('PoolQC', axis=1, inplace=True, errors='ignore')"
   ]
  },
  {
   "cell_type": "code",
   "execution_count": 8,
   "id": "765662ff",
   "metadata": {},
   "outputs": [
    {
     "data": {
      "application/vnd.microsoft.datawrangler.viewer.v0+json": {
       "columns": [
        {
         "name": "Id",
         "rawType": "int64",
         "type": "integer"
        },
        {
         "name": "MSZoning",
         "rawType": "object",
         "type": "string"
        },
        {
         "name": "Street",
         "rawType": "object",
         "type": "string"
        },
        {
         "name": "Alley",
         "rawType": "object",
         "type": "string"
        },
        {
         "name": "LotShape",
         "rawType": "object",
         "type": "string"
        },
        {
         "name": "LandContour",
         "rawType": "object",
         "type": "string"
        },
        {
         "name": "Utilities",
         "rawType": "object",
         "type": "string"
        },
        {
         "name": "LotConfig",
         "rawType": "object",
         "type": "string"
        },
        {
         "name": "LandSlope",
         "rawType": "object",
         "type": "string"
        },
        {
         "name": "Neighborhood",
         "rawType": "object",
         "type": "string"
        },
        {
         "name": "Condition1",
         "rawType": "object",
         "type": "string"
        },
        {
         "name": "Condition2",
         "rawType": "object",
         "type": "string"
        },
        {
         "name": "BldgType",
         "rawType": "object",
         "type": "string"
        },
        {
         "name": "HouseStyle",
         "rawType": "object",
         "type": "string"
        },
        {
         "name": "RoofStyle",
         "rawType": "object",
         "type": "string"
        },
        {
         "name": "RoofMatl",
         "rawType": "object",
         "type": "string"
        },
        {
         "name": "Exterior1st",
         "rawType": "object",
         "type": "string"
        },
        {
         "name": "Exterior2nd",
         "rawType": "object",
         "type": "string"
        },
        {
         "name": "MasVnrType",
         "rawType": "object",
         "type": "string"
        },
        {
         "name": "ExterQual",
         "rawType": "object",
         "type": "string"
        },
        {
         "name": "ExterCond",
         "rawType": "object",
         "type": "string"
        },
        {
         "name": "Foundation",
         "rawType": "object",
         "type": "string"
        },
        {
         "name": "BsmtQual",
         "rawType": "object",
         "type": "string"
        },
        {
         "name": "BsmtCond",
         "rawType": "object",
         "type": "string"
        },
        {
         "name": "BsmtExposure",
         "rawType": "object",
         "type": "string"
        },
        {
         "name": "BsmtFinType1",
         "rawType": "object",
         "type": "string"
        },
        {
         "name": "BsmtFinType2",
         "rawType": "object",
         "type": "string"
        },
        {
         "name": "Heating",
         "rawType": "object",
         "type": "string"
        },
        {
         "name": "HeatingQC",
         "rawType": "object",
         "type": "string"
        },
        {
         "name": "CentralAir",
         "rawType": "object",
         "type": "string"
        },
        {
         "name": "Electrical",
         "rawType": "object",
         "type": "string"
        },
        {
         "name": "KitchenQual",
         "rawType": "object",
         "type": "string"
        },
        {
         "name": "Functional",
         "rawType": "object",
         "type": "string"
        },
        {
         "name": "FireplaceQu",
         "rawType": "object",
         "type": "string"
        },
        {
         "name": "GarageType",
         "rawType": "object",
         "type": "string"
        },
        {
         "name": "GarageFinish",
         "rawType": "object",
         "type": "string"
        },
        {
         "name": "GarageQual",
         "rawType": "object",
         "type": "string"
        },
        {
         "name": "GarageCond",
         "rawType": "object",
         "type": "string"
        },
        {
         "name": "PavedDrive",
         "rawType": "object",
         "type": "string"
        },
        {
         "name": "Fence",
         "rawType": "object",
         "type": "string"
        },
        {
         "name": "MiscFeature",
         "rawType": "object",
         "type": "string"
        },
        {
         "name": "SaleType",
         "rawType": "object",
         "type": "string"
        },
        {
         "name": "SaleCondition",
         "rawType": "object",
         "type": "string"
        }
       ],
       "ref": "93bde5d1-7cc0-43d8-9763-dc12874f588e",
       "rows": [
        [
         "1",
         "RL",
         "Pave",
         "None",
         "Reg",
         "Lvl",
         "AllPub",
         "Inside",
         "Gtl",
         "CollgCr",
         "Norm",
         "Norm",
         "1Fam",
         "2Story",
         "Gable",
         "CompShg",
         "VinylSd",
         "VinylSd",
         "BrkFace",
         "Gd",
         "TA",
         "PConc",
         "Gd",
         "TA",
         "No",
         "GLQ",
         "Unf",
         "GasA",
         "Ex",
         "Y",
         "SBrkr",
         "Gd",
         "Typ",
         "None",
         "Attchd",
         "RFn",
         "TA",
         "TA",
         "Y",
         "None",
         "None",
         "WD",
         "Normal"
        ],
        [
         "2",
         "RL",
         "Pave",
         "None",
         "Reg",
         "Lvl",
         "AllPub",
         "FR2",
         "Gtl",
         "Veenker",
         "Feedr",
         "Norm",
         "1Fam",
         "1Story",
         "Gable",
         "CompShg",
         "MetalSd",
         "MetalSd",
         "None",
         "TA",
         "TA",
         "CBlock",
         "Gd",
         "TA",
         "Gd",
         "ALQ",
         "Unf",
         "GasA",
         "Ex",
         "Y",
         "SBrkr",
         "TA",
         "Typ",
         "TA",
         "Attchd",
         "RFn",
         "TA",
         "TA",
         "Y",
         "None",
         "None",
         "WD",
         "Normal"
        ],
        [
         "3",
         "RL",
         "Pave",
         "None",
         "IR1",
         "Lvl",
         "AllPub",
         "Inside",
         "Gtl",
         "CollgCr",
         "Norm",
         "Norm",
         "1Fam",
         "2Story",
         "Gable",
         "CompShg",
         "VinylSd",
         "VinylSd",
         "BrkFace",
         "Gd",
         "TA",
         "PConc",
         "Gd",
         "TA",
         "Mn",
         "GLQ",
         "Unf",
         "GasA",
         "Ex",
         "Y",
         "SBrkr",
         "Gd",
         "Typ",
         "TA",
         "Attchd",
         "RFn",
         "TA",
         "TA",
         "Y",
         "None",
         "None",
         "WD",
         "Normal"
        ],
        [
         "4",
         "RL",
         "Pave",
         "None",
         "IR1",
         "Lvl",
         "AllPub",
         "Corner",
         "Gtl",
         "Crawfor",
         "Norm",
         "Norm",
         "1Fam",
         "2Story",
         "Gable",
         "CompShg",
         "Wd Sdng",
         "Wd Shng",
         "None",
         "TA",
         "TA",
         "BrkTil",
         "TA",
         "Gd",
         "No",
         "ALQ",
         "Unf",
         "GasA",
         "Gd",
         "Y",
         "SBrkr",
         "Gd",
         "Typ",
         "Gd",
         "Detchd",
         "Unf",
         "TA",
         "TA",
         "Y",
         "None",
         "None",
         "WD",
         "Abnorml"
        ],
        [
         "5",
         "RL",
         "Pave",
         "None",
         "IR1",
         "Lvl",
         "AllPub",
         "FR2",
         "Gtl",
         "NoRidge",
         "Norm",
         "Norm",
         "1Fam",
         "2Story",
         "Gable",
         "CompShg",
         "VinylSd",
         "VinylSd",
         "BrkFace",
         "Gd",
         "TA",
         "PConc",
         "Gd",
         "TA",
         "Av",
         "GLQ",
         "Unf",
         "GasA",
         "Ex",
         "Y",
         "SBrkr",
         "Gd",
         "Typ",
         "TA",
         "Attchd",
         "RFn",
         "TA",
         "TA",
         "Y",
         "None",
         "None",
         "WD",
         "Normal"
        ]
       ],
       "shape": {
        "columns": 42,
        "rows": 5
       }
      },
      "text/html": [
       "<div>\n",
       "<style scoped>\n",
       "    .dataframe tbody tr th:only-of-type {\n",
       "        vertical-align: middle;\n",
       "    }\n",
       "\n",
       "    .dataframe tbody tr th {\n",
       "        vertical-align: top;\n",
       "    }\n",
       "\n",
       "    .dataframe thead th {\n",
       "        text-align: right;\n",
       "    }\n",
       "</style>\n",
       "<table border=\"1\" class=\"dataframe\">\n",
       "  <thead>\n",
       "    <tr style=\"text-align: right;\">\n",
       "      <th></th>\n",
       "      <th>MSZoning</th>\n",
       "      <th>Street</th>\n",
       "      <th>Alley</th>\n",
       "      <th>LotShape</th>\n",
       "      <th>LandContour</th>\n",
       "      <th>Utilities</th>\n",
       "      <th>LotConfig</th>\n",
       "      <th>LandSlope</th>\n",
       "      <th>Neighborhood</th>\n",
       "      <th>Condition1</th>\n",
       "      <th>...</th>\n",
       "      <th>FireplaceQu</th>\n",
       "      <th>GarageType</th>\n",
       "      <th>GarageFinish</th>\n",
       "      <th>GarageQual</th>\n",
       "      <th>GarageCond</th>\n",
       "      <th>PavedDrive</th>\n",
       "      <th>Fence</th>\n",
       "      <th>MiscFeature</th>\n",
       "      <th>SaleType</th>\n",
       "      <th>SaleCondition</th>\n",
       "    </tr>\n",
       "    <tr>\n",
       "      <th>Id</th>\n",
       "      <th></th>\n",
       "      <th></th>\n",
       "      <th></th>\n",
       "      <th></th>\n",
       "      <th></th>\n",
       "      <th></th>\n",
       "      <th></th>\n",
       "      <th></th>\n",
       "      <th></th>\n",
       "      <th></th>\n",
       "      <th></th>\n",
       "      <th></th>\n",
       "      <th></th>\n",
       "      <th></th>\n",
       "      <th></th>\n",
       "      <th></th>\n",
       "      <th></th>\n",
       "      <th></th>\n",
       "      <th></th>\n",
       "      <th></th>\n",
       "      <th></th>\n",
       "    </tr>\n",
       "  </thead>\n",
       "  <tbody>\n",
       "    <tr>\n",
       "      <th>1</th>\n",
       "      <td>RL</td>\n",
       "      <td>Pave</td>\n",
       "      <td>None</td>\n",
       "      <td>Reg</td>\n",
       "      <td>Lvl</td>\n",
       "      <td>AllPub</td>\n",
       "      <td>Inside</td>\n",
       "      <td>Gtl</td>\n",
       "      <td>CollgCr</td>\n",
       "      <td>Norm</td>\n",
       "      <td>...</td>\n",
       "      <td>None</td>\n",
       "      <td>Attchd</td>\n",
       "      <td>RFn</td>\n",
       "      <td>TA</td>\n",
       "      <td>TA</td>\n",
       "      <td>Y</td>\n",
       "      <td>None</td>\n",
       "      <td>None</td>\n",
       "      <td>WD</td>\n",
       "      <td>Normal</td>\n",
       "    </tr>\n",
       "    <tr>\n",
       "      <th>2</th>\n",
       "      <td>RL</td>\n",
       "      <td>Pave</td>\n",
       "      <td>None</td>\n",
       "      <td>Reg</td>\n",
       "      <td>Lvl</td>\n",
       "      <td>AllPub</td>\n",
       "      <td>FR2</td>\n",
       "      <td>Gtl</td>\n",
       "      <td>Veenker</td>\n",
       "      <td>Feedr</td>\n",
       "      <td>...</td>\n",
       "      <td>TA</td>\n",
       "      <td>Attchd</td>\n",
       "      <td>RFn</td>\n",
       "      <td>TA</td>\n",
       "      <td>TA</td>\n",
       "      <td>Y</td>\n",
       "      <td>None</td>\n",
       "      <td>None</td>\n",
       "      <td>WD</td>\n",
       "      <td>Normal</td>\n",
       "    </tr>\n",
       "    <tr>\n",
       "      <th>3</th>\n",
       "      <td>RL</td>\n",
       "      <td>Pave</td>\n",
       "      <td>None</td>\n",
       "      <td>IR1</td>\n",
       "      <td>Lvl</td>\n",
       "      <td>AllPub</td>\n",
       "      <td>Inside</td>\n",
       "      <td>Gtl</td>\n",
       "      <td>CollgCr</td>\n",
       "      <td>Norm</td>\n",
       "      <td>...</td>\n",
       "      <td>TA</td>\n",
       "      <td>Attchd</td>\n",
       "      <td>RFn</td>\n",
       "      <td>TA</td>\n",
       "      <td>TA</td>\n",
       "      <td>Y</td>\n",
       "      <td>None</td>\n",
       "      <td>None</td>\n",
       "      <td>WD</td>\n",
       "      <td>Normal</td>\n",
       "    </tr>\n",
       "    <tr>\n",
       "      <th>4</th>\n",
       "      <td>RL</td>\n",
       "      <td>Pave</td>\n",
       "      <td>None</td>\n",
       "      <td>IR1</td>\n",
       "      <td>Lvl</td>\n",
       "      <td>AllPub</td>\n",
       "      <td>Corner</td>\n",
       "      <td>Gtl</td>\n",
       "      <td>Crawfor</td>\n",
       "      <td>Norm</td>\n",
       "      <td>...</td>\n",
       "      <td>Gd</td>\n",
       "      <td>Detchd</td>\n",
       "      <td>Unf</td>\n",
       "      <td>TA</td>\n",
       "      <td>TA</td>\n",
       "      <td>Y</td>\n",
       "      <td>None</td>\n",
       "      <td>None</td>\n",
       "      <td>WD</td>\n",
       "      <td>Abnorml</td>\n",
       "    </tr>\n",
       "    <tr>\n",
       "      <th>5</th>\n",
       "      <td>RL</td>\n",
       "      <td>Pave</td>\n",
       "      <td>None</td>\n",
       "      <td>IR1</td>\n",
       "      <td>Lvl</td>\n",
       "      <td>AllPub</td>\n",
       "      <td>FR2</td>\n",
       "      <td>Gtl</td>\n",
       "      <td>NoRidge</td>\n",
       "      <td>Norm</td>\n",
       "      <td>...</td>\n",
       "      <td>TA</td>\n",
       "      <td>Attchd</td>\n",
       "      <td>RFn</td>\n",
       "      <td>TA</td>\n",
       "      <td>TA</td>\n",
       "      <td>Y</td>\n",
       "      <td>None</td>\n",
       "      <td>None</td>\n",
       "      <td>WD</td>\n",
       "      <td>Normal</td>\n",
       "    </tr>\n",
       "  </tbody>\n",
       "</table>\n",
       "<p>5 rows × 42 columns</p>\n",
       "</div>"
      ],
      "text/plain": [
       "   MSZoning Street Alley LotShape LandContour Utilities LotConfig LandSlope  \\\n",
       "Id                                                                            \n",
       "1        RL   Pave  None      Reg         Lvl    AllPub    Inside       Gtl   \n",
       "2        RL   Pave  None      Reg         Lvl    AllPub       FR2       Gtl   \n",
       "3        RL   Pave  None      IR1         Lvl    AllPub    Inside       Gtl   \n",
       "4        RL   Pave  None      IR1         Lvl    AllPub    Corner       Gtl   \n",
       "5        RL   Pave  None      IR1         Lvl    AllPub       FR2       Gtl   \n",
       "\n",
       "   Neighborhood Condition1  ... FireplaceQu GarageType GarageFinish  \\\n",
       "Id                          ...                                       \n",
       "1       CollgCr       Norm  ...        None     Attchd          RFn   \n",
       "2       Veenker      Feedr  ...          TA     Attchd          RFn   \n",
       "3       CollgCr       Norm  ...          TA     Attchd          RFn   \n",
       "4       Crawfor       Norm  ...          Gd     Detchd          Unf   \n",
       "5       NoRidge       Norm  ...          TA     Attchd          RFn   \n",
       "\n",
       "   GarageQual GarageCond PavedDrive Fence MiscFeature SaleType SaleCondition  \n",
       "Id                                                                            \n",
       "1          TA         TA          Y  None        None       WD        Normal  \n",
       "2          TA         TA          Y  None        None       WD        Normal  \n",
       "3          TA         TA          Y  None        None       WD        Normal  \n",
       "4          TA         TA          Y  None        None       WD       Abnorml  \n",
       "5          TA         TA          Y  None        None       WD        Normal  \n",
       "\n",
       "[5 rows x 42 columns]"
      ]
     },
     "execution_count": 8,
     "metadata": {},
     "output_type": "execute_result"
    }
   ],
   "source": [
    "categoricalCols = train.select_dtypes(exclude='number').columns\n",
    "\n",
    "# fill categorical NANs with 'None'\n",
    "train[categoricalCols] = train[categoricalCols].fillna('None')\n",
    "train[categoricalCols].head()"
   ]
  },
  {
   "cell_type": "code",
   "execution_count": 9,
   "id": "3a552e6a",
   "metadata": {},
   "outputs": [
    {
     "data": {
      "application/vnd.microsoft.datawrangler.viewer.v0+json": {
       "columns": [
        {
         "name": "Id",
         "rawType": "int64",
         "type": "integer"
        },
        {
         "name": "LotFrontage",
         "rawType": "float64",
         "type": "float"
        },
        {
         "name": "MasVnrArea",
         "rawType": "float64",
         "type": "float"
        },
        {
         "name": "GarageYrBlt",
         "rawType": "float64",
         "type": "float"
        }
       ],
       "ref": "beef9ac3-e91a-4e05-a399-624c1f4e7641",
       "rows": [
        [
         "8",
         null,
         "240.0",
         "1973.0"
        ],
        [
         "13",
         null,
         "0.0",
         "1962.0"
        ],
        [
         "15",
         null,
         "212.0",
         "1960.0"
        ],
        [
         "17",
         null,
         "180.0",
         "1970.0"
        ],
        [
         "25",
         null,
         "0.0",
         "1968.0"
        ],
        [
         "32",
         null,
         "0.0",
         "1966.0"
        ],
        [
         "40",
         "65.0",
         "0.0",
         null
        ],
        [
         "43",
         null,
         "0.0",
         "1983.0"
        ],
        [
         "44",
         null,
         "0.0",
         "1977.0"
        ],
        [
         "49",
         "33.0",
         "0.0",
         null
        ],
        [
         "51",
         null,
         "0.0",
         "1997.0"
        ],
        [
         "65",
         null,
         "573.0",
         "1998.0"
        ],
        [
         "67",
         null,
         "287.0",
         "1970.0"
        ],
        [
         "77",
         null,
         "0.0",
         "1956.0"
        ],
        [
         "79",
         "72.0",
         "0.0",
         null
        ],
        [
         "85",
         null,
         "22.0",
         "1995.0"
        ],
        [
         "89",
         "105.0",
         "0.0",
         null
        ],
        [
         "90",
         "60.0",
         "0.0",
         null
        ],
        [
         "96",
         null,
         "68.0",
         "1993.0"
        ],
        [
         "100",
         "77.0",
         "0.0",
         null
        ],
        [
         "101",
         null,
         "28.0",
         "1977.0"
        ],
        [
         "105",
         null,
         "600.0",
         "1951.0"
        ],
        [
         "109",
         "85.0",
         "0.0",
         null
        ],
        [
         "112",
         null,
         "0.0",
         "2000.0"
        ],
        [
         "114",
         null,
         "184.0",
         "1953.0"
        ],
        [
         "117",
         null,
         "116.0",
         "1962.0"
        ],
        [
         "121",
         null,
         "0.0",
         "1969.0"
        ],
        [
         "126",
         "60.0",
         "0.0",
         null
        ],
        [
         "127",
         null,
         "0.0",
         "1977.0"
        ],
        [
         "128",
         "55.0",
         "0.0",
         null
        ],
        [
         "132",
         null,
         "40.0",
         "2000.0"
        ],
        [
         "134",
         null,
         "136.0",
         "2001.0"
        ],
        [
         "137",
         null,
         "196.0",
         "1967.0"
        ],
        [
         "141",
         "70.0",
         "0.0",
         null
        ],
        [
         "148",
         null,
         "180.0",
         "2001.0"
        ],
        [
         "149",
         "63.0",
         "120.0",
         null
        ],
        [
         "150",
         null,
         "0.0",
         "1936.0"
        ],
        [
         "153",
         null,
         "252.0",
         "1971.0"
        ],
        [
         "154",
         null,
         "0.0",
         "1960.0"
        ],
        [
         "156",
         "60.0",
         "0.0",
         null
        ],
        [
         "161",
         null,
         "0.0",
         "1984.0"
        ],
        [
         "164",
         "55.0",
         "0.0",
         null
        ],
        [
         "166",
         "62.0",
         "0.0",
         null
        ],
        [
         "167",
         null,
         "0.0",
         "1955.0"
        ],
        [
         "170",
         null,
         "653.0",
         "1981.0"
        ],
        [
         "171",
         null,
         "0.0",
         "1991.0"
        ],
        [
         "178",
         null,
         "0.0",
         "1958.0"
        ],
        [
         "181",
         null,
         "456.0",
         "2000.0"
        ],
        [
         "187",
         null,
         "0.0",
         "1990.0"
        ],
        [
         "192",
         null,
         "138.0",
         "1972.0"
        ]
       ],
       "shape": {
        "columns": 3,
        "rows": 339
       }
      },
      "text/html": [
       "<div>\n",
       "<style scoped>\n",
       "    .dataframe tbody tr th:only-of-type {\n",
       "        vertical-align: middle;\n",
       "    }\n",
       "\n",
       "    .dataframe tbody tr th {\n",
       "        vertical-align: top;\n",
       "    }\n",
       "\n",
       "    .dataframe thead th {\n",
       "        text-align: right;\n",
       "    }\n",
       "</style>\n",
       "<table border=\"1\" class=\"dataframe\">\n",
       "  <thead>\n",
       "    <tr style=\"text-align: right;\">\n",
       "      <th></th>\n",
       "      <th>LotFrontage</th>\n",
       "      <th>MasVnrArea</th>\n",
       "      <th>GarageYrBlt</th>\n",
       "    </tr>\n",
       "    <tr>\n",
       "      <th>Id</th>\n",
       "      <th></th>\n",
       "      <th></th>\n",
       "      <th></th>\n",
       "    </tr>\n",
       "  </thead>\n",
       "  <tbody>\n",
       "    <tr>\n",
       "      <th>8</th>\n",
       "      <td>NaN</td>\n",
       "      <td>240.000</td>\n",
       "      <td>1973.000</td>\n",
       "    </tr>\n",
       "    <tr>\n",
       "      <th>13</th>\n",
       "      <td>NaN</td>\n",
       "      <td>0.000</td>\n",
       "      <td>1962.000</td>\n",
       "    </tr>\n",
       "    <tr>\n",
       "      <th>15</th>\n",
       "      <td>NaN</td>\n",
       "      <td>212.000</td>\n",
       "      <td>1960.000</td>\n",
       "    </tr>\n",
       "    <tr>\n",
       "      <th>17</th>\n",
       "      <td>NaN</td>\n",
       "      <td>180.000</td>\n",
       "      <td>1970.000</td>\n",
       "    </tr>\n",
       "    <tr>\n",
       "      <th>25</th>\n",
       "      <td>NaN</td>\n",
       "      <td>0.000</td>\n",
       "      <td>1968.000</td>\n",
       "    </tr>\n",
       "    <tr>\n",
       "      <th>...</th>\n",
       "      <td>...</td>\n",
       "      <td>...</td>\n",
       "      <td>...</td>\n",
       "    </tr>\n",
       "    <tr>\n",
       "      <th>1444</th>\n",
       "      <td>NaN</td>\n",
       "      <td>0.000</td>\n",
       "      <td>1916.000</td>\n",
       "    </tr>\n",
       "    <tr>\n",
       "      <th>1447</th>\n",
       "      <td>NaN</td>\n",
       "      <td>189.000</td>\n",
       "      <td>1962.000</td>\n",
       "    </tr>\n",
       "    <tr>\n",
       "      <th>1450</th>\n",
       "      <td>21.000</td>\n",
       "      <td>0.000</td>\n",
       "      <td>NaN</td>\n",
       "    </tr>\n",
       "    <tr>\n",
       "      <th>1451</th>\n",
       "      <td>60.000</td>\n",
       "      <td>0.000</td>\n",
       "      <td>NaN</td>\n",
       "    </tr>\n",
       "    <tr>\n",
       "      <th>1454</th>\n",
       "      <td>90.000</td>\n",
       "      <td>0.000</td>\n",
       "      <td>NaN</td>\n",
       "    </tr>\n",
       "  </tbody>\n",
       "</table>\n",
       "<p>339 rows × 3 columns</p>\n",
       "</div>"
      ],
      "text/plain": [
       "      LotFrontage  MasVnrArea  GarageYrBlt\n",
       "Id                                        \n",
       "8             NaN     240.000     1973.000\n",
       "13            NaN       0.000     1962.000\n",
       "15            NaN     212.000     1960.000\n",
       "17            NaN     180.000     1970.000\n",
       "25            NaN       0.000     1968.000\n",
       "...           ...         ...          ...\n",
       "1444          NaN       0.000     1916.000\n",
       "1447          NaN     189.000     1962.000\n",
       "1450       21.000       0.000          NaN\n",
       "1451       60.000       0.000          NaN\n",
       "1454       90.000       0.000          NaN\n",
       "\n",
       "[339 rows x 3 columns]"
      ]
     },
     "execution_count": 9,
     "metadata": {},
     "output_type": "execute_result"
    }
   ],
   "source": [
    "numericalCols = train.select_dtypes(include='number').columns\n",
    "nanNumericColumns = [col for col in numericalCols if train[col].isnull().any()]\n",
    "train[train[nanNumericColumns].isnull().any(axis=1)][nanNumericColumns]"
   ]
  },
  {
   "cell_type": "markdown",
   "id": "b1377be8",
   "metadata": {},
   "source": [
    "We will assume `LotFrontage` (linear feet of street connected to property) is `NaN` when there is no street connected - so we can fill these `NaN`'s with 0's."
   ]
  },
  {
   "cell_type": "code",
   "execution_count": 10,
   "id": "e15f1ef6",
   "metadata": {},
   "outputs": [
    {
     "data": {
      "text/plain": [
       "array([ 0., 21., 24., 30., 32.])"
      ]
     },
     "execution_count": 10,
     "metadata": {},
     "output_type": "execute_result"
    }
   ],
   "source": [
    "train.LotFrontage.fillna(0, inplace=True)\n",
    "train.LotFrontage.sort_values().unique()[:5]"
   ]
  },
  {
   "cell_type": "code",
   "execution_count": 11,
   "id": "afaaf27f",
   "metadata": {},
   "outputs": [
    {
     "data": {
      "application/vnd.microsoft.datawrangler.viewer.v0+json": {
       "columns": [
        {
         "name": "Id",
         "rawType": "int64",
         "type": "integer"
        },
        {
         "name": "MasVnrArea",
         "rawType": "float64",
         "type": "float"
        },
        {
         "name": "MasVnrType",
         "rawType": "object",
         "type": "string"
        }
       ],
       "ref": "df993c86-0a41-45b7-8a11-086853bd4f0a",
       "rows": [
        [
         "235",
         null,
         "None"
        ],
        [
         "530",
         null,
         "None"
        ],
        [
         "651",
         null,
         "None"
        ],
        [
         "937",
         null,
         "None"
        ],
        [
         "974",
         null,
         "None"
        ],
        [
         "978",
         null,
         "None"
        ],
        [
         "1244",
         null,
         "None"
        ],
        [
         "1279",
         null,
         "None"
        ]
       ],
       "shape": {
        "columns": 2,
        "rows": 8
       }
      },
      "text/html": [
       "<div>\n",
       "<style scoped>\n",
       "    .dataframe tbody tr th:only-of-type {\n",
       "        vertical-align: middle;\n",
       "    }\n",
       "\n",
       "    .dataframe tbody tr th {\n",
       "        vertical-align: top;\n",
       "    }\n",
       "\n",
       "    .dataframe thead th {\n",
       "        text-align: right;\n",
       "    }\n",
       "</style>\n",
       "<table border=\"1\" class=\"dataframe\">\n",
       "  <thead>\n",
       "    <tr style=\"text-align: right;\">\n",
       "      <th></th>\n",
       "      <th>MasVnrArea</th>\n",
       "      <th>MasVnrType</th>\n",
       "    </tr>\n",
       "    <tr>\n",
       "      <th>Id</th>\n",
       "      <th></th>\n",
       "      <th></th>\n",
       "    </tr>\n",
       "  </thead>\n",
       "  <tbody>\n",
       "    <tr>\n",
       "      <th>235</th>\n",
       "      <td>NaN</td>\n",
       "      <td>None</td>\n",
       "    </tr>\n",
       "    <tr>\n",
       "      <th>530</th>\n",
       "      <td>NaN</td>\n",
       "      <td>None</td>\n",
       "    </tr>\n",
       "    <tr>\n",
       "      <th>651</th>\n",
       "      <td>NaN</td>\n",
       "      <td>None</td>\n",
       "    </tr>\n",
       "    <tr>\n",
       "      <th>937</th>\n",
       "      <td>NaN</td>\n",
       "      <td>None</td>\n",
       "    </tr>\n",
       "    <tr>\n",
       "      <th>974</th>\n",
       "      <td>NaN</td>\n",
       "      <td>None</td>\n",
       "    </tr>\n",
       "    <tr>\n",
       "      <th>978</th>\n",
       "      <td>NaN</td>\n",
       "      <td>None</td>\n",
       "    </tr>\n",
       "    <tr>\n",
       "      <th>1244</th>\n",
       "      <td>NaN</td>\n",
       "      <td>None</td>\n",
       "    </tr>\n",
       "    <tr>\n",
       "      <th>1279</th>\n",
       "      <td>NaN</td>\n",
       "      <td>None</td>\n",
       "    </tr>\n",
       "  </tbody>\n",
       "</table>\n",
       "</div>"
      ],
      "text/plain": [
       "      MasVnrArea MasVnrType\n",
       "Id                         \n",
       "235          NaN       None\n",
       "530          NaN       None\n",
       "651          NaN       None\n",
       "937          NaN       None\n",
       "974          NaN       None\n",
       "978          NaN       None\n",
       "1244         NaN       None\n",
       "1279         NaN       None"
      ]
     },
     "execution_count": 11,
     "metadata": {},
     "output_type": "execute_result"
    }
   ],
   "source": [
    "train[train.MasVnrArea.isna()][['MasVnrArea', 'MasVnrType']]"
   ]
  },
  {
   "cell_type": "markdown",
   "id": "59ab6d9f",
   "metadata": {},
   "source": [
    "Whenever `MasVnrArea` is `NaN`, it has a corresponding `MasVnrType` of `None`. We will fill these `NaN`'s with 0's."
   ]
  },
  {
   "cell_type": "code",
   "execution_count": 12,
   "id": "72a419ee",
   "metadata": {},
   "outputs": [
    {
     "data": {
      "text/plain": [
       "array([ 0.,  1., 11., 14., 16.])"
      ]
     },
     "execution_count": 12,
     "metadata": {},
     "output_type": "execute_result"
    }
   ],
   "source": [
    "train.MasVnrArea.fillna(0, inplace=True)\n",
    "train.MasVnrArea.sort_values().unique()[:5]"
   ]
  },
  {
   "cell_type": "markdown",
   "id": "c2f88dd9",
   "metadata": {},
   "source": [
    "Finally we deal with `GarageYrBlt`. This is always `NaN` when `GarageType` == `None`, so it shouldn't technically matter what we fill these with. Since we decided to eliminate `NaN`'s we will just fill with 0."
   ]
  },
  {
   "cell_type": "code",
   "execution_count": 13,
   "id": "d422a11b",
   "metadata": {},
   "outputs": [
    {
     "data": {
      "application/vnd.microsoft.datawrangler.viewer.v0+json": {
       "columns": [
        {
         "name": "Id",
         "rawType": "int64",
         "type": "integer"
        },
        {
         "name": "GarageType",
         "rawType": "object",
         "type": "string"
        },
        {
         "name": "GarageYrBlt",
         "rawType": "float64",
         "type": "float"
        }
       ],
       "ref": "6e8834a3-ab2c-4003-8ea7-aacda7df024d",
       "rows": [
        [
         "40",
         "None",
         null
        ],
        [
         "49",
         "None",
         null
        ],
        [
         "79",
         "None",
         null
        ],
        [
         "89",
         "None",
         null
        ],
        [
         "90",
         "None",
         null
        ],
        [
         "100",
         "None",
         null
        ],
        [
         "109",
         "None",
         null
        ],
        [
         "126",
         "None",
         null
        ],
        [
         "128",
         "None",
         null
        ],
        [
         "141",
         "None",
         null
        ],
        [
         "149",
         "None",
         null
        ],
        [
         "156",
         "None",
         null
        ],
        [
         "164",
         "None",
         null
        ],
        [
         "166",
         "None",
         null
        ],
        [
         "199",
         "None",
         null
        ],
        [
         "211",
         "None",
         null
        ],
        [
         "242",
         "None",
         null
        ],
        [
         "251",
         "None",
         null
        ],
        [
         "288",
         "None",
         null
        ],
        [
         "292",
         "None",
         null
        ],
        [
         "308",
         "None",
         null
        ],
        [
         "376",
         "None",
         null
        ],
        [
         "387",
         "None",
         null
        ],
        [
         "394",
         "None",
         null
        ],
        [
         "432",
         "None",
         null
        ],
        [
         "435",
         "None",
         null
        ],
        [
         "442",
         "None",
         null
        ],
        [
         "465",
         "None",
         null
        ],
        [
         "496",
         "None",
         null
        ],
        [
         "521",
         "None",
         null
        ],
        [
         "529",
         "None",
         null
        ],
        [
         "534",
         "None",
         null
        ],
        [
         "536",
         "None",
         null
        ],
        [
         "563",
         "None",
         null
        ],
        [
         "583",
         "None",
         null
        ],
        [
         "614",
         "None",
         null
        ],
        [
         "615",
         "None",
         null
        ],
        [
         "621",
         "None",
         null
        ],
        [
         "636",
         "None",
         null
        ],
        [
         "637",
         "None",
         null
        ],
        [
         "639",
         "None",
         null
        ],
        [
         "650",
         "None",
         null
        ],
        [
         "706",
         "None",
         null
        ],
        [
         "711",
         "None",
         null
        ],
        [
         "739",
         "None",
         null
        ],
        [
         "751",
         "None",
         null
        ],
        [
         "785",
         "None",
         null
        ],
        [
         "827",
         "None",
         null
        ],
        [
         "844",
         "None",
         null
        ],
        [
         "922",
         "None",
         null
        ]
       ],
       "shape": {
        "columns": 2,
        "rows": 81
       }
      },
      "text/html": [
       "<div>\n",
       "<style scoped>\n",
       "    .dataframe tbody tr th:only-of-type {\n",
       "        vertical-align: middle;\n",
       "    }\n",
       "\n",
       "    .dataframe tbody tr th {\n",
       "        vertical-align: top;\n",
       "    }\n",
       "\n",
       "    .dataframe thead th {\n",
       "        text-align: right;\n",
       "    }\n",
       "</style>\n",
       "<table border=\"1\" class=\"dataframe\">\n",
       "  <thead>\n",
       "    <tr style=\"text-align: right;\">\n",
       "      <th></th>\n",
       "      <th>GarageType</th>\n",
       "      <th>GarageYrBlt</th>\n",
       "    </tr>\n",
       "    <tr>\n",
       "      <th>Id</th>\n",
       "      <th></th>\n",
       "      <th></th>\n",
       "    </tr>\n",
       "  </thead>\n",
       "  <tbody>\n",
       "    <tr>\n",
       "      <th>40</th>\n",
       "      <td>None</td>\n",
       "      <td>NaN</td>\n",
       "    </tr>\n",
       "    <tr>\n",
       "      <th>49</th>\n",
       "      <td>None</td>\n",
       "      <td>NaN</td>\n",
       "    </tr>\n",
       "    <tr>\n",
       "      <th>79</th>\n",
       "      <td>None</td>\n",
       "      <td>NaN</td>\n",
       "    </tr>\n",
       "    <tr>\n",
       "      <th>89</th>\n",
       "      <td>None</td>\n",
       "      <td>NaN</td>\n",
       "    </tr>\n",
       "    <tr>\n",
       "      <th>90</th>\n",
       "      <td>None</td>\n",
       "      <td>NaN</td>\n",
       "    </tr>\n",
       "    <tr>\n",
       "      <th>...</th>\n",
       "      <td>...</td>\n",
       "      <td>...</td>\n",
       "    </tr>\n",
       "    <tr>\n",
       "      <th>1350</th>\n",
       "      <td>None</td>\n",
       "      <td>NaN</td>\n",
       "    </tr>\n",
       "    <tr>\n",
       "      <th>1408</th>\n",
       "      <td>None</td>\n",
       "      <td>NaN</td>\n",
       "    </tr>\n",
       "    <tr>\n",
       "      <th>1450</th>\n",
       "      <td>None</td>\n",
       "      <td>NaN</td>\n",
       "    </tr>\n",
       "    <tr>\n",
       "      <th>1451</th>\n",
       "      <td>None</td>\n",
       "      <td>NaN</td>\n",
       "    </tr>\n",
       "    <tr>\n",
       "      <th>1454</th>\n",
       "      <td>None</td>\n",
       "      <td>NaN</td>\n",
       "    </tr>\n",
       "  </tbody>\n",
       "</table>\n",
       "<p>81 rows × 2 columns</p>\n",
       "</div>"
      ],
      "text/plain": [
       "     GarageType  GarageYrBlt\n",
       "Id                          \n",
       "40         None          NaN\n",
       "49         None          NaN\n",
       "79         None          NaN\n",
       "89         None          NaN\n",
       "90         None          NaN\n",
       "...         ...          ...\n",
       "1350       None          NaN\n",
       "1408       None          NaN\n",
       "1450       None          NaN\n",
       "1451       None          NaN\n",
       "1454       None          NaN\n",
       "\n",
       "[81 rows x 2 columns]"
      ]
     },
     "execution_count": 13,
     "metadata": {},
     "output_type": "execute_result"
    }
   ],
   "source": [
    "# train[train.GarageType == 'None'][['GarageType', 'GarageYrBlt']]\n",
    "train[train.GarageYrBlt.isna()][['GarageType', 'GarageYrBlt']]"
   ]
  },
  {
   "cell_type": "code",
   "execution_count": 14,
   "id": "08f4fa66",
   "metadata": {},
   "outputs": [
    {
     "data": {
      "text/plain": [
       "array([   0., 1900., 1906., 1908., 1910.])"
      ]
     },
     "execution_count": 14,
     "metadata": {},
     "output_type": "execute_result"
    }
   ],
   "source": [
    "train.GarageYrBlt.fillna(0, inplace=True)\n",
    "train.GarageYrBlt.sort_values().unique()[:5]"
   ]
  },
  {
   "cell_type": "code",
   "execution_count": 15,
   "id": "a2ba87b9",
   "metadata": {},
   "outputs": [
    {
     "data": {
      "text/plain": [
       "Index([], dtype='object')"
      ]
     },
     "execution_count": 15,
     "metadata": {},
     "output_type": "execute_result"
    }
   ],
   "source": [
    "train.columns[train.isna().any()]"
   ]
  },
  {
   "cell_type": "markdown",
   "id": "4c22fca9",
   "metadata": {},
   "source": [
    "## Dropping irrelevant features"
   ]
  },
  {
   "cell_type": "markdown",
   "id": "5c37ff55",
   "metadata": {},
   "source": [
    "We can estimate what features will be relevant/irrelevant for predicting `SalePrice` by using [`mutual_info_regression`](https://scikit-learn.org/stable/modules/generated/sklearn.feature_selection.mutual_info_regression.html)."
   ]
  },
  {
   "cell_type": "code",
   "execution_count": 16,
   "id": "e6d504fc",
   "metadata": {},
   "outputs": [],
   "source": [
    "def get_mutual_info(X, y):\n",
    "    from sklearn.feature_selection import mutual_info_regression\n",
    "    X = X.copy()\n",
    "\n",
    "    # bool mask for if a column is categorical\n",
    "    catTypes = [\"object\", \"category\"]\n",
    "    catMask = X.apply(lambda x: x.dtype in catTypes)\n",
    "\n",
    "    # encode categoricals as numerical values\n",
    "    catCols = X.select_dtypes(catTypes).columns\n",
    "    X[catCols] = X[catCols].apply(lambda col: col.factorize()[0])\n",
    "\n",
    "    # compute mutual info\n",
    "    miScores = mutual_info_regression(X, y, discrete_features=catMask, random_state=0)\n",
    "    miScores = pd.Series(miScores, name=\"MI Scores\", index=X.columns).sort_values(ascending=False)\n",
    "    return miScores"
   ]
  },
  {
   "cell_type": "code",
   "execution_count": 17,
   "id": "7d2f357a",
   "metadata": {},
   "outputs": [
    {
     "data": {
      "application/vnd.microsoft.datawrangler.viewer.v0+json": {
       "columns": [
        {
         "name": "index",
         "rawType": "object",
         "type": "string"
        },
        {
         "name": "MI Scores",
         "rawType": "float64",
         "type": "float"
        }
       ],
       "ref": "9c0cda18-27a0-440a-8eb2-146f1dae60e5",
       "rows": [
        [
         "MiscVal",
         "0.004956005174283629"
        ],
        [
         "LowQualFinSF",
         "0.004062605592274782"
        ],
        [
         "LandSlope",
         "0.002847287840153312"
        ],
        [
         "Street",
         "0.0006103399485553052"
        ],
        [
         "Condition2",
         "0.0003766774681676077"
        ],
        [
         "Utilities",
         "1.887379141862766e-15"
        ],
        [
         "BsmtFinSF2",
         "0.0"
        ],
        [
         "PoolArea",
         "0.0"
        ],
        [
         "MoSold",
         "0.0"
        ],
        [
         "YrSold",
         "0.0"
        ]
       ],
       "shape": {
        "columns": 1,
        "rows": 10
       }
      },
      "text/plain": [
       "MiscVal        0.005\n",
       "LowQualFinSF   0.004\n",
       "LandSlope      0.003\n",
       "Street         0.001\n",
       "Condition2     0.000\n",
       "Utilities      0.000\n",
       "BsmtFinSF2     0.000\n",
       "PoolArea       0.000\n",
       "MoSold         0.000\n",
       "YrSold         0.000\n",
       "Name: MI Scores, dtype: float64"
      ]
     },
     "execution_count": 17,
     "metadata": {},
     "output_type": "execute_result"
    }
   ],
   "source": [
    "X = train.copy()\n",
    "y = X.pop('SalePrice')\n",
    "mi = get_mutual_info(X, y)\n",
    "mi.tail(10)"
   ]
  },
  {
   "cell_type": "code",
   "execution_count": 18,
   "id": "0171d2d0",
   "metadata": {},
   "outputs": [
    {
     "data": {
      "application/vnd.microsoft.datawrangler.viewer.v0+json": {
       "columns": [
        {
         "name": "Id",
         "rawType": "int64",
         "type": "integer"
        },
        {
         "name": "MSSubClass",
         "rawType": "int64",
         "type": "integer"
        },
        {
         "name": "MSZoning",
         "rawType": "object",
         "type": "string"
        },
        {
         "name": "LotFrontage",
         "rawType": "float64",
         "type": "float"
        },
        {
         "name": "LotArea",
         "rawType": "int64",
         "type": "integer"
        },
        {
         "name": "Street",
         "rawType": "object",
         "type": "string"
        },
        {
         "name": "Alley",
         "rawType": "object",
         "type": "string"
        },
        {
         "name": "LotShape",
         "rawType": "object",
         "type": "string"
        },
        {
         "name": "LandContour",
         "rawType": "object",
         "type": "string"
        },
        {
         "name": "Utilities",
         "rawType": "object",
         "type": "string"
        },
        {
         "name": "LotConfig",
         "rawType": "object",
         "type": "string"
        },
        {
         "name": "LandSlope",
         "rawType": "object",
         "type": "string"
        },
        {
         "name": "Neighborhood",
         "rawType": "object",
         "type": "string"
        },
        {
         "name": "Condition1",
         "rawType": "object",
         "type": "string"
        },
        {
         "name": "Condition2",
         "rawType": "object",
         "type": "string"
        },
        {
         "name": "BldgType",
         "rawType": "object",
         "type": "string"
        },
        {
         "name": "HouseStyle",
         "rawType": "object",
         "type": "string"
        },
        {
         "name": "OverallQual",
         "rawType": "int64",
         "type": "integer"
        },
        {
         "name": "OverallCond",
         "rawType": "int64",
         "type": "integer"
        },
        {
         "name": "YearBuilt",
         "rawType": "int64",
         "type": "integer"
        },
        {
         "name": "YearRemodAdd",
         "rawType": "int64",
         "type": "integer"
        },
        {
         "name": "RoofStyle",
         "rawType": "object",
         "type": "string"
        },
        {
         "name": "RoofMatl",
         "rawType": "object",
         "type": "string"
        },
        {
         "name": "Exterior1st",
         "rawType": "object",
         "type": "string"
        },
        {
         "name": "Exterior2nd",
         "rawType": "object",
         "type": "string"
        },
        {
         "name": "MasVnrType",
         "rawType": "object",
         "type": "string"
        },
        {
         "name": "MasVnrArea",
         "rawType": "float64",
         "type": "float"
        },
        {
         "name": "ExterQual",
         "rawType": "object",
         "type": "string"
        },
        {
         "name": "ExterCond",
         "rawType": "object",
         "type": "string"
        },
        {
         "name": "Foundation",
         "rawType": "object",
         "type": "string"
        },
        {
         "name": "BsmtQual",
         "rawType": "object",
         "type": "string"
        },
        {
         "name": "BsmtCond",
         "rawType": "object",
         "type": "string"
        },
        {
         "name": "BsmtExposure",
         "rawType": "object",
         "type": "string"
        },
        {
         "name": "BsmtFinType1",
         "rawType": "object",
         "type": "string"
        },
        {
         "name": "BsmtFinSF1",
         "rawType": "int64",
         "type": "integer"
        },
        {
         "name": "BsmtFinType2",
         "rawType": "object",
         "type": "string"
        },
        {
         "name": "BsmtUnfSF",
         "rawType": "int64",
         "type": "integer"
        },
        {
         "name": "TotalBsmtSF",
         "rawType": "int64",
         "type": "integer"
        },
        {
         "name": "Heating",
         "rawType": "object",
         "type": "string"
        },
        {
         "name": "HeatingQC",
         "rawType": "object",
         "type": "string"
        },
        {
         "name": "CentralAir",
         "rawType": "object",
         "type": "string"
        },
        {
         "name": "Electrical",
         "rawType": "object",
         "type": "string"
        },
        {
         "name": "1stFlrSF",
         "rawType": "int64",
         "type": "integer"
        },
        {
         "name": "2ndFlrSF",
         "rawType": "int64",
         "type": "integer"
        },
        {
         "name": "LowQualFinSF",
         "rawType": "int64",
         "type": "integer"
        },
        {
         "name": "GrLivArea",
         "rawType": "int64",
         "type": "integer"
        },
        {
         "name": "BsmtFullBath",
         "rawType": "int64",
         "type": "integer"
        },
        {
         "name": "BsmtHalfBath",
         "rawType": "int64",
         "type": "integer"
        },
        {
         "name": "FullBath",
         "rawType": "int64",
         "type": "integer"
        },
        {
         "name": "HalfBath",
         "rawType": "int64",
         "type": "integer"
        },
        {
         "name": "BedroomAbvGr",
         "rawType": "int64",
         "type": "integer"
        },
        {
         "name": "KitchenAbvGr",
         "rawType": "int64",
         "type": "integer"
        },
        {
         "name": "KitchenQual",
         "rawType": "object",
         "type": "string"
        },
        {
         "name": "TotRmsAbvGrd",
         "rawType": "int64",
         "type": "integer"
        },
        {
         "name": "Functional",
         "rawType": "object",
         "type": "string"
        },
        {
         "name": "Fireplaces",
         "rawType": "int64",
         "type": "integer"
        },
        {
         "name": "FireplaceQu",
         "rawType": "object",
         "type": "string"
        },
        {
         "name": "GarageType",
         "rawType": "object",
         "type": "string"
        },
        {
         "name": "GarageYrBlt",
         "rawType": "float64",
         "type": "float"
        },
        {
         "name": "GarageFinish",
         "rawType": "object",
         "type": "string"
        },
        {
         "name": "GarageCars",
         "rawType": "int64",
         "type": "integer"
        },
        {
         "name": "GarageArea",
         "rawType": "int64",
         "type": "integer"
        },
        {
         "name": "GarageQual",
         "rawType": "object",
         "type": "string"
        },
        {
         "name": "GarageCond",
         "rawType": "object",
         "type": "string"
        },
        {
         "name": "PavedDrive",
         "rawType": "object",
         "type": "string"
        },
        {
         "name": "WoodDeckSF",
         "rawType": "int64",
         "type": "integer"
        },
        {
         "name": "OpenPorchSF",
         "rawType": "int64",
         "type": "integer"
        },
        {
         "name": "EnclosedPorch",
         "rawType": "int64",
         "type": "integer"
        },
        {
         "name": "3SsnPorch",
         "rawType": "int64",
         "type": "integer"
        },
        {
         "name": "ScreenPorch",
         "rawType": "int64",
         "type": "integer"
        },
        {
         "name": "Fence",
         "rawType": "object",
         "type": "string"
        },
        {
         "name": "MiscFeature",
         "rawType": "object",
         "type": "string"
        },
        {
         "name": "MiscVal",
         "rawType": "int64",
         "type": "integer"
        },
        {
         "name": "SaleType",
         "rawType": "object",
         "type": "string"
        },
        {
         "name": "SaleCondition",
         "rawType": "object",
         "type": "string"
        }
       ],
       "ref": "4fee5d4f-823d-405f-97a0-5232745beafe",
       "rows": [
        [
         "1",
         "60",
         "RL",
         "65.0",
         "8450",
         "Pave",
         "None",
         "Reg",
         "Lvl",
         "AllPub",
         "Inside",
         "Gtl",
         "CollgCr",
         "Norm",
         "Norm",
         "1Fam",
         "2Story",
         "7",
         "5",
         "2003",
         "2003",
         "Gable",
         "CompShg",
         "VinylSd",
         "VinylSd",
         "BrkFace",
         "196.0",
         "Gd",
         "TA",
         "PConc",
         "Gd",
         "TA",
         "No",
         "GLQ",
         "706",
         "Unf",
         "150",
         "856",
         "GasA",
         "Ex",
         "Y",
         "SBrkr",
         "856",
         "854",
         "0",
         "1710",
         "1",
         "0",
         "2",
         "1",
         "3",
         "1",
         "Gd",
         "8",
         "Typ",
         "0",
         "None",
         "Attchd",
         "2003.0",
         "RFn",
         "2",
         "548",
         "TA",
         "TA",
         "Y",
         "0",
         "61",
         "0",
         "0",
         "0",
         "None",
         "None",
         "0",
         "WD",
         "Normal"
        ],
        [
         "2",
         "20",
         "RL",
         "80.0",
         "9600",
         "Pave",
         "None",
         "Reg",
         "Lvl",
         "AllPub",
         "FR2",
         "Gtl",
         "Veenker",
         "Feedr",
         "Norm",
         "1Fam",
         "1Story",
         "6",
         "8",
         "1976",
         "1976",
         "Gable",
         "CompShg",
         "MetalSd",
         "MetalSd",
         "None",
         "0.0",
         "TA",
         "TA",
         "CBlock",
         "Gd",
         "TA",
         "Gd",
         "ALQ",
         "978",
         "Unf",
         "284",
         "1262",
         "GasA",
         "Ex",
         "Y",
         "SBrkr",
         "1262",
         "0",
         "0",
         "1262",
         "0",
         "1",
         "2",
         "0",
         "3",
         "1",
         "TA",
         "6",
         "Typ",
         "1",
         "TA",
         "Attchd",
         "1976.0",
         "RFn",
         "2",
         "460",
         "TA",
         "TA",
         "Y",
         "298",
         "0",
         "0",
         "0",
         "0",
         "None",
         "None",
         "0",
         "WD",
         "Normal"
        ],
        [
         "3",
         "60",
         "RL",
         "68.0",
         "11250",
         "Pave",
         "None",
         "IR1",
         "Lvl",
         "AllPub",
         "Inside",
         "Gtl",
         "CollgCr",
         "Norm",
         "Norm",
         "1Fam",
         "2Story",
         "7",
         "5",
         "2001",
         "2002",
         "Gable",
         "CompShg",
         "VinylSd",
         "VinylSd",
         "BrkFace",
         "162.0",
         "Gd",
         "TA",
         "PConc",
         "Gd",
         "TA",
         "Mn",
         "GLQ",
         "486",
         "Unf",
         "434",
         "920",
         "GasA",
         "Ex",
         "Y",
         "SBrkr",
         "920",
         "866",
         "0",
         "1786",
         "1",
         "0",
         "2",
         "1",
         "3",
         "1",
         "Gd",
         "6",
         "Typ",
         "1",
         "TA",
         "Attchd",
         "2001.0",
         "RFn",
         "2",
         "608",
         "TA",
         "TA",
         "Y",
         "0",
         "42",
         "0",
         "0",
         "0",
         "None",
         "None",
         "0",
         "WD",
         "Normal"
        ],
        [
         "4",
         "70",
         "RL",
         "60.0",
         "9550",
         "Pave",
         "None",
         "IR1",
         "Lvl",
         "AllPub",
         "Corner",
         "Gtl",
         "Crawfor",
         "Norm",
         "Norm",
         "1Fam",
         "2Story",
         "7",
         "5",
         "1915",
         "1970",
         "Gable",
         "CompShg",
         "Wd Sdng",
         "Wd Shng",
         "None",
         "0.0",
         "TA",
         "TA",
         "BrkTil",
         "TA",
         "Gd",
         "No",
         "ALQ",
         "216",
         "Unf",
         "540",
         "756",
         "GasA",
         "Gd",
         "Y",
         "SBrkr",
         "961",
         "756",
         "0",
         "1717",
         "1",
         "0",
         "1",
         "0",
         "3",
         "1",
         "Gd",
         "7",
         "Typ",
         "1",
         "Gd",
         "Detchd",
         "1998.0",
         "Unf",
         "3",
         "642",
         "TA",
         "TA",
         "Y",
         "0",
         "35",
         "272",
         "0",
         "0",
         "None",
         "None",
         "0",
         "WD",
         "Abnorml"
        ],
        [
         "5",
         "60",
         "RL",
         "84.0",
         "14260",
         "Pave",
         "None",
         "IR1",
         "Lvl",
         "AllPub",
         "FR2",
         "Gtl",
         "NoRidge",
         "Norm",
         "Norm",
         "1Fam",
         "2Story",
         "8",
         "5",
         "2000",
         "2000",
         "Gable",
         "CompShg",
         "VinylSd",
         "VinylSd",
         "BrkFace",
         "350.0",
         "Gd",
         "TA",
         "PConc",
         "Gd",
         "TA",
         "Av",
         "GLQ",
         "655",
         "Unf",
         "490",
         "1145",
         "GasA",
         "Ex",
         "Y",
         "SBrkr",
         "1145",
         "1053",
         "0",
         "2198",
         "1",
         "0",
         "2",
         "1",
         "4",
         "1",
         "Gd",
         "9",
         "Typ",
         "1",
         "TA",
         "Attchd",
         "2000.0",
         "RFn",
         "3",
         "836",
         "TA",
         "TA",
         "Y",
         "192",
         "84",
         "0",
         "0",
         "0",
         "None",
         "None",
         "0",
         "WD",
         "Normal"
        ]
       ],
       "shape": {
        "columns": 74,
        "rows": 5
       }
      },
      "text/html": [
       "<div>\n",
       "<style scoped>\n",
       "    .dataframe tbody tr th:only-of-type {\n",
       "        vertical-align: middle;\n",
       "    }\n",
       "\n",
       "    .dataframe tbody tr th {\n",
       "        vertical-align: top;\n",
       "    }\n",
       "\n",
       "    .dataframe thead th {\n",
       "        text-align: right;\n",
       "    }\n",
       "</style>\n",
       "<table border=\"1\" class=\"dataframe\">\n",
       "  <thead>\n",
       "    <tr style=\"text-align: right;\">\n",
       "      <th></th>\n",
       "      <th>MSSubClass</th>\n",
       "      <th>MSZoning</th>\n",
       "      <th>LotFrontage</th>\n",
       "      <th>LotArea</th>\n",
       "      <th>Street</th>\n",
       "      <th>Alley</th>\n",
       "      <th>LotShape</th>\n",
       "      <th>LandContour</th>\n",
       "      <th>Utilities</th>\n",
       "      <th>LotConfig</th>\n",
       "      <th>...</th>\n",
       "      <th>WoodDeckSF</th>\n",
       "      <th>OpenPorchSF</th>\n",
       "      <th>EnclosedPorch</th>\n",
       "      <th>3SsnPorch</th>\n",
       "      <th>ScreenPorch</th>\n",
       "      <th>Fence</th>\n",
       "      <th>MiscFeature</th>\n",
       "      <th>MiscVal</th>\n",
       "      <th>SaleType</th>\n",
       "      <th>SaleCondition</th>\n",
       "    </tr>\n",
       "    <tr>\n",
       "      <th>Id</th>\n",
       "      <th></th>\n",
       "      <th></th>\n",
       "      <th></th>\n",
       "      <th></th>\n",
       "      <th></th>\n",
       "      <th></th>\n",
       "      <th></th>\n",
       "      <th></th>\n",
       "      <th></th>\n",
       "      <th></th>\n",
       "      <th></th>\n",
       "      <th></th>\n",
       "      <th></th>\n",
       "      <th></th>\n",
       "      <th></th>\n",
       "      <th></th>\n",
       "      <th></th>\n",
       "      <th></th>\n",
       "      <th></th>\n",
       "      <th></th>\n",
       "      <th></th>\n",
       "    </tr>\n",
       "  </thead>\n",
       "  <tbody>\n",
       "    <tr>\n",
       "      <th>1</th>\n",
       "      <td>60</td>\n",
       "      <td>RL</td>\n",
       "      <td>65.000</td>\n",
       "      <td>8450</td>\n",
       "      <td>Pave</td>\n",
       "      <td>None</td>\n",
       "      <td>Reg</td>\n",
       "      <td>Lvl</td>\n",
       "      <td>AllPub</td>\n",
       "      <td>Inside</td>\n",
       "      <td>...</td>\n",
       "      <td>0</td>\n",
       "      <td>61</td>\n",
       "      <td>0</td>\n",
       "      <td>0</td>\n",
       "      <td>0</td>\n",
       "      <td>None</td>\n",
       "      <td>None</td>\n",
       "      <td>0</td>\n",
       "      <td>WD</td>\n",
       "      <td>Normal</td>\n",
       "    </tr>\n",
       "    <tr>\n",
       "      <th>2</th>\n",
       "      <td>20</td>\n",
       "      <td>RL</td>\n",
       "      <td>80.000</td>\n",
       "      <td>9600</td>\n",
       "      <td>Pave</td>\n",
       "      <td>None</td>\n",
       "      <td>Reg</td>\n",
       "      <td>Lvl</td>\n",
       "      <td>AllPub</td>\n",
       "      <td>FR2</td>\n",
       "      <td>...</td>\n",
       "      <td>298</td>\n",
       "      <td>0</td>\n",
       "      <td>0</td>\n",
       "      <td>0</td>\n",
       "      <td>0</td>\n",
       "      <td>None</td>\n",
       "      <td>None</td>\n",
       "      <td>0</td>\n",
       "      <td>WD</td>\n",
       "      <td>Normal</td>\n",
       "    </tr>\n",
       "    <tr>\n",
       "      <th>3</th>\n",
       "      <td>60</td>\n",
       "      <td>RL</td>\n",
       "      <td>68.000</td>\n",
       "      <td>11250</td>\n",
       "      <td>Pave</td>\n",
       "      <td>None</td>\n",
       "      <td>IR1</td>\n",
       "      <td>Lvl</td>\n",
       "      <td>AllPub</td>\n",
       "      <td>Inside</td>\n",
       "      <td>...</td>\n",
       "      <td>0</td>\n",
       "      <td>42</td>\n",
       "      <td>0</td>\n",
       "      <td>0</td>\n",
       "      <td>0</td>\n",
       "      <td>None</td>\n",
       "      <td>None</td>\n",
       "      <td>0</td>\n",
       "      <td>WD</td>\n",
       "      <td>Normal</td>\n",
       "    </tr>\n",
       "    <tr>\n",
       "      <th>4</th>\n",
       "      <td>70</td>\n",
       "      <td>RL</td>\n",
       "      <td>60.000</td>\n",
       "      <td>9550</td>\n",
       "      <td>Pave</td>\n",
       "      <td>None</td>\n",
       "      <td>IR1</td>\n",
       "      <td>Lvl</td>\n",
       "      <td>AllPub</td>\n",
       "      <td>Corner</td>\n",
       "      <td>...</td>\n",
       "      <td>0</td>\n",
       "      <td>35</td>\n",
       "      <td>272</td>\n",
       "      <td>0</td>\n",
       "      <td>0</td>\n",
       "      <td>None</td>\n",
       "      <td>None</td>\n",
       "      <td>0</td>\n",
       "      <td>WD</td>\n",
       "      <td>Abnorml</td>\n",
       "    </tr>\n",
       "    <tr>\n",
       "      <th>5</th>\n",
       "      <td>60</td>\n",
       "      <td>RL</td>\n",
       "      <td>84.000</td>\n",
       "      <td>14260</td>\n",
       "      <td>Pave</td>\n",
       "      <td>None</td>\n",
       "      <td>IR1</td>\n",
       "      <td>Lvl</td>\n",
       "      <td>AllPub</td>\n",
       "      <td>FR2</td>\n",
       "      <td>...</td>\n",
       "      <td>192</td>\n",
       "      <td>84</td>\n",
       "      <td>0</td>\n",
       "      <td>0</td>\n",
       "      <td>0</td>\n",
       "      <td>None</td>\n",
       "      <td>None</td>\n",
       "      <td>0</td>\n",
       "      <td>WD</td>\n",
       "      <td>Normal</td>\n",
       "    </tr>\n",
       "  </tbody>\n",
       "</table>\n",
       "<p>5 rows × 74 columns</p>\n",
       "</div>"
      ],
      "text/plain": [
       "    MSSubClass MSZoning  LotFrontage  LotArea Street Alley LotShape  \\\n",
       "Id                                                                    \n",
       "1           60       RL       65.000     8450   Pave  None      Reg   \n",
       "2           20       RL       80.000     9600   Pave  None      Reg   \n",
       "3           60       RL       68.000    11250   Pave  None      IR1   \n",
       "4           70       RL       60.000     9550   Pave  None      IR1   \n",
       "5           60       RL       84.000    14260   Pave  None      IR1   \n",
       "\n",
       "   LandContour Utilities LotConfig  ... WoodDeckSF OpenPorchSF EnclosedPorch  \\\n",
       "Id                                  ...                                        \n",
       "1          Lvl    AllPub    Inside  ...          0          61             0   \n",
       "2          Lvl    AllPub       FR2  ...        298           0             0   \n",
       "3          Lvl    AllPub    Inside  ...          0          42             0   \n",
       "4          Lvl    AllPub    Corner  ...          0          35           272   \n",
       "5          Lvl    AllPub       FR2  ...        192          84             0   \n",
       "\n",
       "   3SsnPorch ScreenPorch Fence  MiscFeature  MiscVal  SaleType  SaleCondition  \n",
       "Id                                                                             \n",
       "1          0           0  None         None        0        WD         Normal  \n",
       "2          0           0  None         None        0        WD         Normal  \n",
       "3          0           0  None         None        0        WD         Normal  \n",
       "4          0           0  None         None        0        WD        Abnorml  \n",
       "5          0           0  None         None        0        WD         Normal  \n",
       "\n",
       "[5 rows x 74 columns]"
      ]
     },
     "execution_count": 18,
     "metadata": {},
     "output_type": "execute_result"
    }
   ],
   "source": [
    "# drop columns with 0 MI score\n",
    "columns = mi[mi == 0].index\n",
    "X.drop(columns, axis=1, inplace=True, errors='ignore')\n",
    "X.head()"
   ]
  },
  {
   "cell_type": "markdown",
   "id": "f6712f80",
   "metadata": {},
   "source": [
    "## Summary"
   ]
  },
  {
   "cell_type": "markdown",
   "id": "98e6637d",
   "metadata": {},
   "source": [
    "The transformations we made on the original dataset were:\n",
    "\n",
    "1. Filling categorical `NaN`'s with `'None'`\n",
    "2. Filling numerical `NaN`'s with 0\n",
    "3. Dropped columns independent of `SalePrice` (via [`mutual_info_regression`](https://scikit-learn.org/stable/modules/generated/sklearn.feature_selection.mutual_info_regression.html) along with `PoolQC`), i.e., `[Utilities, BsmtFinSF2, PoolArea, MoSold, YrSold, PoolQC]`\n",
    "\n",
    "We will end this notebook by "
   ]
  },
  {
   "cell_type": "code",
   "execution_count": 19,
   "id": "c9fe8695",
   "metadata": {},
   "outputs": [],
   "source": [
    "def fill_nans(df):\n",
    "    df = df.copy()\n",
    "    # fill categorical NANs with 'None'\n",
    "    categoricalCols = df.select_dtypes(exclude='number').columns\n",
    "    df[categoricalCols] = df[categoricalCols].fillna('NONE')\n",
    "    # fill numeric NANs with 0\n",
    "    numericalCols = df.select_dtypes(include='number').columns\n",
    "    df[numericalCols] = df[numericalCols].fillna(0)\n",
    "    \n",
    "    return df\n",
    "\n",
    "def drop_irrelevant_columns(df):\n",
    "    df = df.copy()\n",
    "    dropCols = [\"Utilities\", \"BsmtFinSF2\", \"PoolArea\", \"MoSold\", \"YrSold\", \"PoolQC\"]\n",
    "    df = df.drop(dropCols, axis=1)\n",
    "    return df"
   ]
  },
  {
   "cell_type": "code",
   "execution_count": 20,
   "id": "ac5d0499",
   "metadata": {},
   "outputs": [],
   "source": [
    "def get_cleaned_data(df):\n",
    "    df = fill_nans(df)\n",
    "    df = drop_irrelevant_columns(df)\n",
    "    return df"
   ]
  },
  {
   "cell_type": "code",
   "execution_count": 21,
   "id": "c67d43cf",
   "metadata": {},
   "outputs": [
    {
     "data": {
      "text/plain": [
       "((1460, 74), (1459, 73))"
      ]
     },
     "execution_count": 21,
     "metadata": {},
     "output_type": "execute_result"
    }
   ],
   "source": [
    "train = pd.read_csv(in_file_paths['train'], index_col='Id')\n",
    "test = pd.read_csv(in_file_paths['test'], index_col='Id')\n",
    "\n",
    "train = get_cleaned_data(train)\n",
    "test = get_cleaned_data(test)\n",
    "\n",
    "train.shape, test.shape"
   ]
  },
  {
   "cell_type": "code",
   "execution_count": 22,
   "id": "5cd47a8d",
   "metadata": {},
   "outputs": [],
   "source": [
    "train.to_csv(out_file_paths['train'])\n",
    "test.to_csv(out_file_paths['test'])"
   ]
  }
 ],
 "metadata": {
  "kernelspec": {
   "display_name": "venv",
   "language": "python",
   "name": "python3"
  },
  "language_info": {
   "codemirror_mode": {
    "name": "ipython",
    "version": 3
   },
   "file_extension": ".py",
   "mimetype": "text/x-python",
   "name": "python",
   "nbconvert_exporter": "python",
   "pygments_lexer": "ipython3",
   "version": "3.10.11"
  }
 },
 "nbformat": 4,
 "nbformat_minor": 5
}
