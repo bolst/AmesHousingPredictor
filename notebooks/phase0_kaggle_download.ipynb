{
 "cells": [
  {
   "cell_type": "markdown",
   "id": "1e7cc212",
   "metadata": {},
   "source": [
    "# Phase 0: Getting data from Kaggle\n",
    "\n",
    "You can skip this notebook if you wish to download from Kaggle manually."
   ]
  },
  {
   "cell_type": "markdown",
   "id": "8abd7934",
   "metadata": {},
   "source": [
    "## Setting up Kaggle\n",
    "\n",
    "If you haven't set up authentication with Kaggle yet (you can test this by running the cell below), follow these steps:\n",
    "\n",
    "1. Go to the Account tab of your [Kaggle profile](https://www.kaggle.com/settings/account)\n",
    "2. Select 'Create New Token' (which will download a file `kaggle.json`)\n",
    "3. If you are on a UNIX-based OS, place this at `~/.kaggle/kaggle.json`\n",
    "    - For Windows, place this at `C:\\Users\\<Windows-username>\\.kaggle\\kaggle.json`"
   ]
  },
  {
   "cell_type": "code",
   "execution_count": 35,
   "id": "a9fa0330",
   "metadata": {},
   "outputs": [
    {
     "name": "stdout",
     "output_type": "stream",
     "text": [
      "Warning: Your Kaggle API key is readable by other users on this system! To fix this, you can run 'chmod 600 /Users/nic/.kaggle/kaggle.json'\n"
     ]
    }
   ],
   "source": [
    "from kaggle.api.kaggle_api_extended import KaggleApi\n",
    "\n",
    "api = KaggleApi()\n",
    "api.authenticate()\n",
    "\n",
    "competition = \"house-prices-advanced-regression-techniques\""
   ]
  },
  {
   "cell_type": "code",
   "execution_count": 36,
   "id": "e46bcb79",
   "metadata": {},
   "outputs": [
    {
     "data": {
      "text/plain": [
       "[{\"ref\": \"\", \"name\": \"data_description.txt\", \"description\": \"\", \"totalBytes\": 13370, \"url\": \"\", \"creationDate\": \"2019-12-15T21:33:33.301Z\"},\n",
       " {\"ref\": \"\", \"name\": \"sample_submission.csv\", \"description\": \"\", \"totalBytes\": 31939, \"url\": \"\", \"creationDate\": \"2019-12-15T21:33:33.301Z\"},\n",
       " {\"ref\": \"\", \"name\": \"test.csv\", \"description\": \"\", \"totalBytes\": 451405, \"url\": \"\", \"creationDate\": \"2019-12-15T21:33:33.301Z\"},\n",
       " {\"ref\": \"\", \"name\": \"train.csv\", \"description\": \"\", \"totalBytes\": 460676, \"url\": \"\", \"creationDate\": \"2019-12-15T21:33:33.301Z\"}]"
      ]
     },
     "execution_count": 36,
     "metadata": {},
     "output_type": "execute_result"
    }
   ],
   "source": [
    "response = api.competition_list_files(competition)\n",
    "response.files"
   ]
  },
  {
   "cell_type": "code",
   "execution_count": 37,
   "id": "5bb0a883",
   "metadata": {},
   "outputs": [
    {
     "name": "stdout",
     "output_type": "stream",
     "text": [
      "Dataset successfully downloaded!\n"
     ]
    }
   ],
   "source": [
    "import os\n",
    "\n",
    "data_path = \"../data\"\n",
    "os.makedirs(data_path, exist_ok=True)\n",
    "\n",
    "folder_filepath = f\"{data_path}/{competition}\"\n",
    "zip_filepath = folder_filepath + \".zip\"\n",
    "api.competition_download_files(competition, path=data_path)\n",
    "\n",
    "if os.path.exists(zip_filepath):\n",
    "    print(\"Dataset successfully downloaded!\")\n",
    "else:\n",
    "    raise FileNotFoundError(\"For some reason, dataset was not downloaded?\")"
   ]
  },
  {
   "cell_type": "code",
   "execution_count": 38,
   "id": "c93ba8fe",
   "metadata": {},
   "outputs": [
    {
     "name": "stdout",
     "output_type": "stream",
     "text": [
      "Dataset was successfully downloaded and extrated to ../data/house-prices-advanced-regression-techniques\n"
     ]
    }
   ],
   "source": [
    "# unzip data\n",
    "from zipfile import ZipFile\n",
    "with ZipFile(zip_filepath, 'r') as zipref:\n",
    "    zipref.extractall(folder_filepath)\n",
    "\n",
    "os.remove(zip_filepath)\n",
    "print(f\"Dataset was successfully downloaded and extrated to {folder_filepath}\")"
   ]
  }
 ],
 "metadata": {
  "kernelspec": {
   "display_name": "AmesHousingPredictor",
   "language": "python",
   "name": "python3"
  },
  "language_info": {
   "codemirror_mode": {
    "name": "ipython",
    "version": 3
   },
   "file_extension": ".py",
   "mimetype": "text/x-python",
   "name": "python",
   "nbconvert_exporter": "python",
   "pygments_lexer": "ipython3",
   "version": "3.10.11"
  }
 },
 "nbformat": 4,
 "nbformat_minor": 5
}
